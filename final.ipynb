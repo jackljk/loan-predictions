{
 "cells": [
  {
   "cell_type": "code",
   "execution_count": 106,
   "metadata": {},
   "outputs": [],
   "source": [
    "import pandas as pd\n",
    "import numpy as np\n",
    "import matplotlib.pyplot as plt\n",
    "import seaborn as sns"
   ]
  },
  {
   "cell_type": "code",
   "execution_count": 83,
   "metadata": {},
   "outputs": [],
   "source": [
    "data = pd.read_csv(\"/Users/SPECTRE/Downloads/archive-3/train.csv\")"
   ]
  },
  {
   "cell_type": "code",
   "execution_count": 84,
   "metadata": {},
   "outputs": [
    {
     "data": {
      "text/html": [
       "<div>\n",
       "<style scoped>\n",
       "    .dataframe tbody tr th:only-of-type {\n",
       "        vertical-align: middle;\n",
       "    }\n",
       "\n",
       "    .dataframe tbody tr th {\n",
       "        vertical-align: top;\n",
       "    }\n",
       "\n",
       "    .dataframe thead th {\n",
       "        text-align: right;\n",
       "    }\n",
       "</style>\n",
       "<table border=\"1\" class=\"dataframe\">\n",
       "  <thead>\n",
       "    <tr style=\"text-align: right;\">\n",
       "      <th></th>\n",
       "      <th>ID</th>\n",
       "      <th>Loan Amount</th>\n",
       "      <th>Funded Amount</th>\n",
       "      <th>Funded Amount Investor</th>\n",
       "      <th>Term</th>\n",
       "      <th>Batch Enrolled</th>\n",
       "      <th>Interest Rate</th>\n",
       "      <th>Grade</th>\n",
       "      <th>Sub Grade</th>\n",
       "      <th>Employment Duration</th>\n",
       "      <th>Home Ownership</th>\n",
       "      <th>Verification Status</th>\n",
       "      <th>Payment Plan</th>\n",
       "      <th>Loan Title</th>\n",
       "      <th>Debit to Income</th>\n",
       "      <th>Delinquency - two years</th>\n",
       "      <th>Inquires - six months</th>\n",
       "      <th>Open Account</th>\n",
       "      <th>Public Record</th>\n",
       "      <th>Revolving Balance</th>\n",
       "      <th>Revolving Utilities</th>\n",
       "      <th>Total Accounts</th>\n",
       "      <th>Initial List Status</th>\n",
       "      <th>Total Received Interest</th>\n",
       "      <th>Total Received Late Fee</th>\n",
       "      <th>Recoveries</th>\n",
       "      <th>Collection Recovery Fee</th>\n",
       "      <th>Collection 12 months Medical</th>\n",
       "      <th>Application Type</th>\n",
       "      <th>Last week Pay</th>\n",
       "      <th>Accounts Delinquent</th>\n",
       "      <th>Total Collection Amount</th>\n",
       "      <th>Total Current Balance</th>\n",
       "      <th>Total Revolving Credit Limit</th>\n",
       "      <th>Loan Status</th>\n",
       "    </tr>\n",
       "  </thead>\n",
       "  <tbody>\n",
       "    <tr>\n",
       "      <th>0</th>\n",
       "      <td>65087372</td>\n",
       "      <td>10000</td>\n",
       "      <td>32236</td>\n",
       "      <td>12329.36286</td>\n",
       "      <td>59</td>\n",
       "      <td>BAT2522922</td>\n",
       "      <td>11.135007</td>\n",
       "      <td>B</td>\n",
       "      <td>C4</td>\n",
       "      <td>MORTGAGE</td>\n",
       "      <td>176346.62670</td>\n",
       "      <td>Not Verified</td>\n",
       "      <td>n</td>\n",
       "      <td>Debt Consolidation</td>\n",
       "      <td>16.284758</td>\n",
       "      <td>1</td>\n",
       "      <td>0</td>\n",
       "      <td>13</td>\n",
       "      <td>0</td>\n",
       "      <td>24246</td>\n",
       "      <td>74.932551</td>\n",
       "      <td>7</td>\n",
       "      <td>w</td>\n",
       "      <td>2929.646315</td>\n",
       "      <td>0.102055</td>\n",
       "      <td>2.498291</td>\n",
       "      <td>0.793724</td>\n",
       "      <td>0</td>\n",
       "      <td>INDIVIDUAL</td>\n",
       "      <td>49</td>\n",
       "      <td>0</td>\n",
       "      <td>31</td>\n",
       "      <td>311301</td>\n",
       "      <td>6619</td>\n",
       "      <td>0</td>\n",
       "    </tr>\n",
       "    <tr>\n",
       "      <th>1</th>\n",
       "      <td>1450153</td>\n",
       "      <td>3609</td>\n",
       "      <td>11940</td>\n",
       "      <td>12191.99692</td>\n",
       "      <td>59</td>\n",
       "      <td>BAT1586599</td>\n",
       "      <td>12.237563</td>\n",
       "      <td>C</td>\n",
       "      <td>D3</td>\n",
       "      <td>RENT</td>\n",
       "      <td>39833.92100</td>\n",
       "      <td>Source Verified</td>\n",
       "      <td>n</td>\n",
       "      <td>Debt consolidation</td>\n",
       "      <td>15.412409</td>\n",
       "      <td>0</td>\n",
       "      <td>0</td>\n",
       "      <td>12</td>\n",
       "      <td>0</td>\n",
       "      <td>812</td>\n",
       "      <td>78.297186</td>\n",
       "      <td>13</td>\n",
       "      <td>f</td>\n",
       "      <td>772.769385</td>\n",
       "      <td>0.036181</td>\n",
       "      <td>2.377215</td>\n",
       "      <td>0.974821</td>\n",
       "      <td>0</td>\n",
       "      <td>INDIVIDUAL</td>\n",
       "      <td>109</td>\n",
       "      <td>0</td>\n",
       "      <td>53</td>\n",
       "      <td>182610</td>\n",
       "      <td>20885</td>\n",
       "      <td>0</td>\n",
       "    </tr>\n",
       "    <tr>\n",
       "      <th>2</th>\n",
       "      <td>1969101</td>\n",
       "      <td>28276</td>\n",
       "      <td>9311</td>\n",
       "      <td>21603.22455</td>\n",
       "      <td>59</td>\n",
       "      <td>BAT2136391</td>\n",
       "      <td>12.545884</td>\n",
       "      <td>F</td>\n",
       "      <td>D4</td>\n",
       "      <td>MORTGAGE</td>\n",
       "      <td>91506.69105</td>\n",
       "      <td>Source Verified</td>\n",
       "      <td>n</td>\n",
       "      <td>Debt Consolidation</td>\n",
       "      <td>28.137619</td>\n",
       "      <td>0</td>\n",
       "      <td>0</td>\n",
       "      <td>14</td>\n",
       "      <td>0</td>\n",
       "      <td>1843</td>\n",
       "      <td>2.073040</td>\n",
       "      <td>20</td>\n",
       "      <td>w</td>\n",
       "      <td>863.324396</td>\n",
       "      <td>18.778660</td>\n",
       "      <td>4.316277</td>\n",
       "      <td>1.020075</td>\n",
       "      <td>0</td>\n",
       "      <td>INDIVIDUAL</td>\n",
       "      <td>66</td>\n",
       "      <td>0</td>\n",
       "      <td>34</td>\n",
       "      <td>89801</td>\n",
       "      <td>26155</td>\n",
       "      <td>0</td>\n",
       "    </tr>\n",
       "    <tr>\n",
       "      <th>3</th>\n",
       "      <td>6651430</td>\n",
       "      <td>11170</td>\n",
       "      <td>6954</td>\n",
       "      <td>17877.15585</td>\n",
       "      <td>59</td>\n",
       "      <td>BAT2428731</td>\n",
       "      <td>16.731201</td>\n",
       "      <td>C</td>\n",
       "      <td>C3</td>\n",
       "      <td>MORTGAGE</td>\n",
       "      <td>108286.57590</td>\n",
       "      <td>Source Verified</td>\n",
       "      <td>n</td>\n",
       "      <td>Debt consolidation</td>\n",
       "      <td>18.043730</td>\n",
       "      <td>1</td>\n",
       "      <td>0</td>\n",
       "      <td>7</td>\n",
       "      <td>0</td>\n",
       "      <td>13819</td>\n",
       "      <td>67.467951</td>\n",
       "      <td>12</td>\n",
       "      <td>w</td>\n",
       "      <td>288.173196</td>\n",
       "      <td>0.044131</td>\n",
       "      <td>0.107020</td>\n",
       "      <td>0.749971</td>\n",
       "      <td>0</td>\n",
       "      <td>INDIVIDUAL</td>\n",
       "      <td>39</td>\n",
       "      <td>0</td>\n",
       "      <td>40</td>\n",
       "      <td>9189</td>\n",
       "      <td>60214</td>\n",
       "      <td>0</td>\n",
       "    </tr>\n",
       "    <tr>\n",
       "      <th>4</th>\n",
       "      <td>14354669</td>\n",
       "      <td>16890</td>\n",
       "      <td>13226</td>\n",
       "      <td>13539.92667</td>\n",
       "      <td>59</td>\n",
       "      <td>BAT5341619</td>\n",
       "      <td>15.008300</td>\n",
       "      <td>C</td>\n",
       "      <td>D4</td>\n",
       "      <td>MORTGAGE</td>\n",
       "      <td>44234.82545</td>\n",
       "      <td>Source Verified</td>\n",
       "      <td>n</td>\n",
       "      <td>Credit card refinancing</td>\n",
       "      <td>17.209886</td>\n",
       "      <td>1</td>\n",
       "      <td>3</td>\n",
       "      <td>13</td>\n",
       "      <td>1</td>\n",
       "      <td>1544</td>\n",
       "      <td>85.250761</td>\n",
       "      <td>22</td>\n",
       "      <td>w</td>\n",
       "      <td>129.239553</td>\n",
       "      <td>19.306646</td>\n",
       "      <td>1294.818751</td>\n",
       "      <td>0.368953</td>\n",
       "      <td>0</td>\n",
       "      <td>INDIVIDUAL</td>\n",
       "      <td>18</td>\n",
       "      <td>0</td>\n",
       "      <td>430</td>\n",
       "      <td>126029</td>\n",
       "      <td>22579</td>\n",
       "      <td>0</td>\n",
       "    </tr>\n",
       "  </tbody>\n",
       "</table>\n",
       "</div>"
      ],
      "text/plain": [
       "         ID  Loan Amount  Funded Amount  Funded Amount Investor  Term  \\\n",
       "0  65087372        10000          32236             12329.36286    59   \n",
       "1   1450153         3609          11940             12191.99692    59   \n",
       "2   1969101        28276           9311             21603.22455    59   \n",
       "3   6651430        11170           6954             17877.15585    59   \n",
       "4  14354669        16890          13226             13539.92667    59   \n",
       "\n",
       "  Batch Enrolled  Interest Rate Grade Sub Grade Employment Duration  \\\n",
       "0     BAT2522922      11.135007     B        C4            MORTGAGE   \n",
       "1     BAT1586599      12.237563     C        D3                RENT   \n",
       "2     BAT2136391      12.545884     F        D4            MORTGAGE   \n",
       "3     BAT2428731      16.731201     C        C3            MORTGAGE   \n",
       "4     BAT5341619      15.008300     C        D4            MORTGAGE   \n",
       "\n",
       "   Home Ownership Verification Status Payment Plan               Loan Title  \\\n",
       "0    176346.62670        Not Verified            n       Debt Consolidation   \n",
       "1     39833.92100     Source Verified            n       Debt consolidation   \n",
       "2     91506.69105     Source Verified            n       Debt Consolidation   \n",
       "3    108286.57590     Source Verified            n       Debt consolidation   \n",
       "4     44234.82545     Source Verified            n  Credit card refinancing   \n",
       "\n",
       "   Debit to Income  Delinquency - two years  Inquires - six months  \\\n",
       "0        16.284758                        1                      0   \n",
       "1        15.412409                        0                      0   \n",
       "2        28.137619                        0                      0   \n",
       "3        18.043730                        1                      0   \n",
       "4        17.209886                        1                      3   \n",
       "\n",
       "   Open Account  Public Record  Revolving Balance  Revolving Utilities  \\\n",
       "0            13              0              24246            74.932551   \n",
       "1            12              0                812            78.297186   \n",
       "2            14              0               1843             2.073040   \n",
       "3             7              0              13819            67.467951   \n",
       "4            13              1               1544            85.250761   \n",
       "\n",
       "   Total Accounts Initial List Status  Total Received Interest  \\\n",
       "0               7                   w              2929.646315   \n",
       "1              13                   f               772.769385   \n",
       "2              20                   w               863.324396   \n",
       "3              12                   w               288.173196   \n",
       "4              22                   w               129.239553   \n",
       "\n",
       "   Total Received Late Fee   Recoveries  Collection Recovery Fee  \\\n",
       "0                 0.102055     2.498291                 0.793724   \n",
       "1                 0.036181     2.377215                 0.974821   \n",
       "2                18.778660     4.316277                 1.020075   \n",
       "3                 0.044131     0.107020                 0.749971   \n",
       "4                19.306646  1294.818751                 0.368953   \n",
       "\n",
       "   Collection 12 months Medical Application Type  Last week Pay  \\\n",
       "0                             0       INDIVIDUAL             49   \n",
       "1                             0       INDIVIDUAL            109   \n",
       "2                             0       INDIVIDUAL             66   \n",
       "3                             0       INDIVIDUAL             39   \n",
       "4                             0       INDIVIDUAL             18   \n",
       "\n",
       "   Accounts Delinquent  Total Collection Amount  Total Current Balance  \\\n",
       "0                    0                       31                 311301   \n",
       "1                    0                       53                 182610   \n",
       "2                    0                       34                  89801   \n",
       "3                    0                       40                   9189   \n",
       "4                    0                      430                 126029   \n",
       "\n",
       "   Total Revolving Credit Limit  Loan Status  \n",
       "0                          6619            0  \n",
       "1                         20885            0  \n",
       "2                         26155            0  \n",
       "3                         60214            0  \n",
       "4                         22579            0  "
      ]
     },
     "execution_count": 84,
     "metadata": {},
     "output_type": "execute_result"
    }
   ],
   "source": [
    "pd.set_option('display.max_columns', None)\n",
    "data.head()"
   ]
  },
  {
   "cell_type": "code",
   "execution_count": 85,
   "metadata": {},
   "outputs": [
    {
     "data": {
      "text/plain": [
       "0    0\n",
       "1    0\n",
       "2    0\n",
       "3    0\n",
       "4    3\n",
       "Name: Inquires - six months, dtype: int64"
      ]
     },
     "execution_count": 85,
     "metadata": {},
     "output_type": "execute_result"
    }
   ],
   "source": [
    "data.head()['Inquires - six months']"
   ]
  },
  {
   "cell_type": "markdown",
   "metadata": {},
   "source": []
  },
  {
   "cell_type": "code",
   "execution_count": 86,
   "metadata": {},
   "outputs": [
    {
     "data": {
      "text/plain": [
       "<AxesSubplot:xlabel='Loan Status'>"
      ]
     },
     "execution_count": 86,
     "metadata": {},
     "output_type": "execute_result"
    },
    {
     "data": {
      "image/png": "[encoded data removed]",
      "text/plain": [
       "<Figure size 432x288 with 1 Axes>"
      ]
     },
     "metadata": {
      "needs_background": "light"
     },
     "output_type": "display_data"
    }
   ],
   "source": [
    "# plot recoveries vs. loan status\n",
    "data.groupby('Loan Status')['Recoveries'].median().plot(kind='bar')"
   ]
  },
  {
   "cell_type": "code",
   "execution_count": 87,
   "metadata": {},
   "outputs": [
    {
     "data": {
      "text/html": [
       "<div>\n",
       "<style scoped>\n",
       "    .dataframe tbody tr th:only-of-type {\n",
       "        vertical-align: middle;\n",
       "    }\n",
       "\n",
       "    .dataframe tbody tr th {\n",
       "        vertical-align: top;\n",
       "    }\n",
       "\n",
       "    .dataframe thead th {\n",
       "        text-align: right;\n",
       "    }\n",
       "</style>\n",
       "<table border=\"1\" class=\"dataframe\">\n",
       "  <thead>\n",
       "    <tr style=\"text-align: right;\">\n",
       "      <th></th>\n",
       "      <th>ID</th>\n",
       "      <th>Loan Amount</th>\n",
       "      <th>Funded Amount</th>\n",
       "      <th>Funded Amount Investor</th>\n",
       "      <th>Term</th>\n",
       "      <th>Interest Rate</th>\n",
       "      <th>Home Ownership</th>\n",
       "      <th>Debit to Income</th>\n",
       "      <th>Delinquency - two years</th>\n",
       "      <th>Inquires - six months</th>\n",
       "      <th>Open Account</th>\n",
       "      <th>Public Record</th>\n",
       "      <th>Revolving Balance</th>\n",
       "      <th>Revolving Utilities</th>\n",
       "      <th>Total Accounts</th>\n",
       "      <th>Total Received Interest</th>\n",
       "      <th>Total Received Late Fee</th>\n",
       "      <th>Recoveries</th>\n",
       "      <th>Collection Recovery Fee</th>\n",
       "      <th>Collection 12 months Medical</th>\n",
       "      <th>Last week Pay</th>\n",
       "      <th>Accounts Delinquent</th>\n",
       "      <th>Total Collection Amount</th>\n",
       "      <th>Total Current Balance</th>\n",
       "      <th>Total Revolving Credit Limit</th>\n",
       "    </tr>\n",
       "    <tr>\n",
       "      <th>Loan Status</th>\n",
       "      <th></th>\n",
       "      <th></th>\n",
       "      <th></th>\n",
       "      <th></th>\n",
       "      <th></th>\n",
       "      <th></th>\n",
       "      <th></th>\n",
       "      <th></th>\n",
       "      <th></th>\n",
       "      <th></th>\n",
       "      <th></th>\n",
       "      <th></th>\n",
       "      <th></th>\n",
       "      <th></th>\n",
       "      <th></th>\n",
       "      <th></th>\n",
       "      <th></th>\n",
       "      <th></th>\n",
       "      <th></th>\n",
       "      <th></th>\n",
       "      <th></th>\n",
       "      <th></th>\n",
       "      <th></th>\n",
       "      <th></th>\n",
       "      <th></th>\n",
       "    </tr>\n",
       "  </thead>\n",
       "  <tbody>\n",
       "    <tr>\n",
       "      <th>0</th>\n",
       "      <td>25624430.71</td>\n",
       "      <td>16860.85</td>\n",
       "      <td>15767.05</td>\n",
       "      <td>14622.00</td>\n",
       "      <td>58.18</td>\n",
       "      <td>11.84</td>\n",
       "      <td>80488.08</td>\n",
       "      <td>23.31</td>\n",
       "      <td>0.32</td>\n",
       "      <td>0.15</td>\n",
       "      <td>14.28</td>\n",
       "      <td>0.08</td>\n",
       "      <td>7702.03</td>\n",
       "      <td>52.86</td>\n",
       "      <td>18.63</td>\n",
       "      <td>2067.80</td>\n",
       "      <td>1.13</td>\n",
       "      <td>59.77</td>\n",
       "      <td>1.13</td>\n",
       "      <td>0.02</td>\n",
       "      <td>71.08</td>\n",
       "      <td>0.0</td>\n",
       "      <td>144.59</td>\n",
       "      <td>159137.67</td>\n",
       "      <td>23113.30</td>\n",
       "    </tr>\n",
       "    <tr>\n",
       "      <th>1</th>\n",
       "      <td>25658773.35</td>\n",
       "      <td>16731.67</td>\n",
       "      <td>15805.42</td>\n",
       "      <td>14619.87</td>\n",
       "      <td>58.14</td>\n",
       "      <td>11.88</td>\n",
       "      <td>81065.54</td>\n",
       "      <td>23.22</td>\n",
       "      <td>0.35</td>\n",
       "      <td>0.15</td>\n",
       "      <td>14.13</td>\n",
       "      <td>0.09</td>\n",
       "      <td>7673.00</td>\n",
       "      <td>53.18</td>\n",
       "      <td>18.63</td>\n",
       "      <td>2080.68</td>\n",
       "      <td>1.30</td>\n",
       "      <td>58.96</td>\n",
       "      <td>1.08</td>\n",
       "      <td>0.02</td>\n",
       "      <td>71.99</td>\n",
       "      <td>0.0</td>\n",
       "      <td>164.87</td>\n",
       "      <td>163853.53</td>\n",
       "      <td>23218.24</td>\n",
       "    </tr>\n",
       "  </tbody>\n",
       "</table>\n",
       "</div>"
      ],
      "text/plain": [
       "                      ID  Loan Amount  Funded Amount  Funded Amount Investor  \\\n",
       "Loan Status                                                                    \n",
       "0            25624430.71     16860.85       15767.05                14622.00   \n",
       "1            25658773.35     16731.67       15805.42                14619.87   \n",
       "\n",
       "              Term  Interest Rate  Home Ownership  Debit to Income  \\\n",
       "Loan Status                                                          \n",
       "0            58.18          11.84        80488.08            23.31   \n",
       "1            58.14          11.88        81065.54            23.22   \n",
       "\n",
       "             Delinquency - two years  Inquires - six months  Open Account  \\\n",
       "Loan Status                                                                 \n",
       "0                               0.32                   0.15         14.28   \n",
       "1                               0.35                   0.15         14.13   \n",
       "\n",
       "             Public Record  Revolving Balance  Revolving Utilities  \\\n",
       "Loan Status                                                          \n",
       "0                     0.08            7702.03                52.86   \n",
       "1                     0.09            7673.00                53.18   \n",
       "\n",
       "             Total Accounts  Total Received Interest  Total Received Late Fee  \\\n",
       "Loan Status                                                                     \n",
       "0                     18.63                  2067.80                     1.13   \n",
       "1                     18.63                  2080.68                     1.30   \n",
       "\n",
       "             Recoveries  Collection Recovery Fee  \\\n",
       "Loan Status                                        \n",
       "0                 59.77                     1.13   \n",
       "1                 58.96                     1.08   \n",
       "\n",
       "             Collection 12 months Medical  Last week Pay  Accounts Delinquent  \\\n",
       "Loan Status                                                                     \n",
       "0                                    0.02          71.08                  0.0   \n",
       "1                                    0.02          71.99                  0.0   \n",
       "\n",
       "             Total Collection Amount  Total Current Balance  \\\n",
       "Loan Status                                                   \n",
       "0                             144.59              159137.67   \n",
       "1                             164.87              163853.53   \n",
       "\n",
       "             Total Revolving Credit Limit  \n",
       "Loan Status                                \n",
       "0                                23113.30  \n",
       "1                                23218.24  "
      ]
     },
     "execution_count": 87,
     "metadata": {},
     "output_type": "execute_result"
    }
   ],
   "source": [
    "data.groupby(\"Loan Status\").mean().round(2)\n",
    "\n",
    "#This shows how similar the statistics of the two classes are. This could be due to 2 reasons - 1. the dataset is highly randomized which makes it unlikely to show correlation.\n",
    "#2. The classes are imbalanced (less represntation of class 1). "
   ]
  },
  {
   "cell_type": "code",
   "execution_count": 88,
   "metadata": {},
   "outputs": [
    {
     "data": {
      "text/plain": [
       "<AxesSubplot:xlabel='Initial List Status'>"
      ]
     },
     "execution_count": 88,
     "metadata": {},
     "output_type": "execute_result"
    },
    {
     "data": {
      "image/png": "[encoded data removed]",
      "text/plain": [
       "<Figure size 432x288 with 1 Axes>"
      ]
     },
     "metadata": {
      "needs_background": "light"
     },
     "output_type": "display_data"
    }
   ],
   "source": [
    "# plot a bar plot of inital list status by the number of 1s and the number of 0s in loan status\n",
    "data.groupby('Initial List Status')['Loan Status'].value_counts().unstack().plot(kind='bar')"
   ]
  },
  {
   "cell_type": "code",
   "execution_count": 89,
   "metadata": {},
   "outputs": [
    {
     "data": {
      "text/plain": [
       "Application Type\n",
       "INDIVIDUAL    6230\n",
       "JOINT           11\n",
       "Name: Loan Status, dtype: int64"
      ]
     },
     "execution_count": 89,
     "metadata": {},
     "output_type": "execute_result"
    }
   ],
   "source": [
    "data.groupby(\"Application Type\").sum()[\"Loan Status\"]"
   ]
  },
  {
   "cell_type": "code",
   "execution_count": 90,
   "metadata": {},
   "outputs": [
    {
     "data": {
      "text/plain": [
       "Verification Status\n",
       "Not Verified       1506\n",
       "Source Verified    3085\n",
       "Verified           1650\n",
       "Name: Loan Status, dtype: int64"
      ]
     },
     "execution_count": 90,
     "metadata": {},
     "output_type": "execute_result"
    }
   ],
   "source": [
    "data.groupby(\"Verification Status\").sum()[\"Loan Status\"]"
   ]
  },
  {
   "cell_type": "code",
   "execution_count": 91,
   "metadata": {},
   "outputs": [
    {
     "name": "stderr",
     "output_type": "stream",
     "text": [
      "/var/folders/lf/xb0tgmbn1151tv7hrt1mr_5r0000gn/T/ipykernel_32143/2613361430.py:2: FutureWarning: Indexing with multiple keys (implicitly converted to a tuple of keys) will be deprecated, use a list instead.\n",
      "  data.groupby('Loan Status')['Revolving Balance', 'Revolving Utilities'].median().plot(kind='bar', color=['lightgreen', 'lightblue'])\n"
     ]
    },
    {
     "data": {
      "text/plain": [
       "<AxesSubplot:xlabel='Loan Status'>"
      ]
     },
     "execution_count": 91,
     "metadata": {},
     "output_type": "execute_result"
    },
    {
     "data": {
      "image/png": "[encoded data removed]",
      "text/plain": [
       "<Figure size 432x288 with 1 Axes>"
      ]
     },
     "metadata": {
      "needs_background": "light"
     },
     "output_type": "display_data"
    }
   ],
   "source": [
    "# revolving utilization and revolving balance compared to loan status\n",
    "data.groupby('Loan Status')['Revolving Balance', 'Revolving Utilities'].median().plot(kind='bar', color=['lightgreen', 'lightblue'])"
   ]
  },
  {
   "cell_type": "code",
   "execution_count": 92,
   "metadata": {},
   "outputs": [
    {
     "data": {
      "text/plain": [
       "<AxesSubplot:xlabel='Loan Status'>"
      ]
     },
     "execution_count": 92,
     "metadata": {},
     "output_type": "execute_result"
    },
    {
     "data": {
      "image/png": "[encoded data removed]",
      "text/plain": [
       "<Figure size 432x288 with 1 Axes>"
      ]
     },
     "metadata": {
      "needs_background": "light"
     },
     "output_type": "display_data"
    }
   ],
   "source": [
    "data.groupby('Loan Status')['Revolving Balance'].median().plot(kind='bar', color=['lightgreen'])"
   ]
  },
  {
   "cell_type": "markdown",
   "metadata": {},
   "source": []
  },
  {
   "cell_type": "code",
   "execution_count": 93,
   "metadata": {},
   "outputs": [
    {
     "data": {
      "text/plain": [
       "<AxesSubplot:xlabel='Loan Status'>"
      ]
     },
     "execution_count": 93,
     "metadata": {},
     "output_type": "execute_result"
    },
    {
     "data": {
      "image/png": "[encoded data removed]",
      "text/plain": [
       "<Figure size 432x288 with 1 Axes>"
      ]
     },
     "metadata": {
      "needs_background": "light"
     },
     "output_type": "display_data"
    }
   ],
   "source": [
    "data.groupby('Loan Status')['Revolving Utilities'].median().plot(kind='bar', color=['lightblue'])"
   ]
  },
  {
   "cell_type": "code",
   "execution_count": 94,
   "metadata": {},
   "outputs": [
    {
     "data": {
      "text/plain": [
       "<AxesSubplot:xlabel='Loan Status'>"
      ]
     },
     "execution_count": 94,
     "metadata": {},
     "output_type": "execute_result"
    },
    {
     "data": {
      "image/png": "[encoded data removed]",
      "text/plain": [
       "<Figure size 432x288 with 1 Axes>"
      ]
     },
     "metadata": {
      "needs_background": "light"
     },
     "output_type": "display_data"
    }
   ],
   "source": [
    "# inquiries 6 months vs loan status\n",
    "data.groupby('Loan Status')['Inquires - six months'].mean().plot(kind='bar', color = 'purple')"
   ]
  },
  {
   "cell_type": "code",
   "execution_count": 95,
   "metadata": {},
   "outputs": [
    {
     "data": {
      "text/plain": [
       "0    60486\n",
       "1     4558\n",
       "2     2042\n",
       "3      320\n",
       "4       54\n",
       "5        3\n",
       "Name: Inquires - six months, dtype: int64"
      ]
     },
     "execution_count": 95,
     "metadata": {},
     "output_type": "execute_result"
    }
   ],
   "source": [
    "# inquiries 6 mmonth value counts\n",
    "data['Inquires - six months'].value_counts()"
   ]
  },
  {
   "cell_type": "code",
   "execution_count": 96,
   "metadata": {},
   "outputs": [],
   "source": [
    "def drop_useless(df):\n",
    "    df = df.copy()\n",
    "    df = df.drop(columns=['ID', 'Term', 'Payment Plan', 'Open Account', 'Batch Enrolled',\n",
    "                          'Accounts Delinquent', 'Total Accounts', 'Recoveries', 'Initial List Status', 'Collection Recovery Fee', 'Last week Pay',\n",
    "                          'Revolving Utilities', 'Funded Amount', 'Revolving Balance', 'Inquires - six months', 'Loan Title'])\n",
    "    return df"
   ]
  },
  {
   "cell_type": "code",
   "execution_count": null,
   "metadata": {},
   "outputs": [],
   "source": []
  },
  {
   "cell_type": "markdown",
   "metadata": {},
   "source": [
    "# EDA"
   ]
  },
  {
   "cell_type": "code",
   "execution_count": 97,
   "metadata": {},
   "outputs": [
    {
     "data": {
      "text/html": [
       "<div>\n",
       "<style scoped>\n",
       "    .dataframe tbody tr th:only-of-type {\n",
       "        vertical-align: middle;\n",
       "    }\n",
       "\n",
       "    .dataframe tbody tr th {\n",
       "        vertical-align: top;\n",
       "    }\n",
       "\n",
       "    .dataframe thead th {\n",
       "        text-align: right;\n",
       "    }\n",
       "</style>\n",
       "<table border=\"1\" class=\"dataframe\">\n",
       "  <thead>\n",
       "    <tr style=\"text-align: right;\">\n",
       "      <th></th>\n",
       "      <th>Loan Amount</th>\n",
       "      <th>Funded Amount Investor</th>\n",
       "      <th>Interest Rate</th>\n",
       "      <th>Grade</th>\n",
       "      <th>Sub Grade</th>\n",
       "      <th>Employment Duration</th>\n",
       "      <th>Home Ownership</th>\n",
       "      <th>Verification Status</th>\n",
       "      <th>Debit to Income</th>\n",
       "      <th>Delinquency - two years</th>\n",
       "      <th>Public Record</th>\n",
       "      <th>Total Received Interest</th>\n",
       "      <th>Total Received Late Fee</th>\n",
       "      <th>Collection 12 months Medical</th>\n",
       "      <th>Application Type</th>\n",
       "      <th>Total Collection Amount</th>\n",
       "      <th>Total Current Balance</th>\n",
       "      <th>Total Revolving Credit Limit</th>\n",
       "      <th>Loan Status</th>\n",
       "    </tr>\n",
       "  </thead>\n",
       "  <tbody>\n",
       "    <tr>\n",
       "      <th>0</th>\n",
       "      <td>10000</td>\n",
       "      <td>12329.36286</td>\n",
       "      <td>11.135007</td>\n",
       "      <td>B</td>\n",
       "      <td>C4</td>\n",
       "      <td>MORTGAGE</td>\n",
       "      <td>176346.62670</td>\n",
       "      <td>Not Verified</td>\n",
       "      <td>16.284758</td>\n",
       "      <td>1</td>\n",
       "      <td>0</td>\n",
       "      <td>2929.646315</td>\n",
       "      <td>0.102055</td>\n",
       "      <td>0</td>\n",
       "      <td>INDIVIDUAL</td>\n",
       "      <td>31</td>\n",
       "      <td>311301</td>\n",
       "      <td>6619</td>\n",
       "      <td>0</td>\n",
       "    </tr>\n",
       "    <tr>\n",
       "      <th>1</th>\n",
       "      <td>3609</td>\n",
       "      <td>12191.99692</td>\n",
       "      <td>12.237563</td>\n",
       "      <td>C</td>\n",
       "      <td>D3</td>\n",
       "      <td>RENT</td>\n",
       "      <td>39833.92100</td>\n",
       "      <td>Source Verified</td>\n",
       "      <td>15.412409</td>\n",
       "      <td>0</td>\n",
       "      <td>0</td>\n",
       "      <td>772.769385</td>\n",
       "      <td>0.036181</td>\n",
       "      <td>0</td>\n",
       "      <td>INDIVIDUAL</td>\n",
       "      <td>53</td>\n",
       "      <td>182610</td>\n",
       "      <td>20885</td>\n",
       "      <td>0</td>\n",
       "    </tr>\n",
       "    <tr>\n",
       "      <th>2</th>\n",
       "      <td>28276</td>\n",
       "      <td>21603.22455</td>\n",
       "      <td>12.545884</td>\n",
       "      <td>F</td>\n",
       "      <td>D4</td>\n",
       "      <td>MORTGAGE</td>\n",
       "      <td>91506.69105</td>\n",
       "      <td>Source Verified</td>\n",
       "      <td>28.137619</td>\n",
       "      <td>0</td>\n",
       "      <td>0</td>\n",
       "      <td>863.324396</td>\n",
       "      <td>18.778660</td>\n",
       "      <td>0</td>\n",
       "      <td>INDIVIDUAL</td>\n",
       "      <td>34</td>\n",
       "      <td>89801</td>\n",
       "      <td>26155</td>\n",
       "      <td>0</td>\n",
       "    </tr>\n",
       "    <tr>\n",
       "      <th>3</th>\n",
       "      <td>11170</td>\n",
       "      <td>17877.15585</td>\n",
       "      <td>16.731201</td>\n",
       "      <td>C</td>\n",
       "      <td>C3</td>\n",
       "      <td>MORTGAGE</td>\n",
       "      <td>108286.57590</td>\n",
       "      <td>Source Verified</td>\n",
       "      <td>18.043730</td>\n",
       "      <td>1</td>\n",
       "      <td>0</td>\n",
       "      <td>288.173196</td>\n",
       "      <td>0.044131</td>\n",
       "      <td>0</td>\n",
       "      <td>INDIVIDUAL</td>\n",
       "      <td>40</td>\n",
       "      <td>9189</td>\n",
       "      <td>60214</td>\n",
       "      <td>0</td>\n",
       "    </tr>\n",
       "    <tr>\n",
       "      <th>4</th>\n",
       "      <td>16890</td>\n",
       "      <td>13539.92667</td>\n",
       "      <td>15.008300</td>\n",
       "      <td>C</td>\n",
       "      <td>D4</td>\n",
       "      <td>MORTGAGE</td>\n",
       "      <td>44234.82545</td>\n",
       "      <td>Source Verified</td>\n",
       "      <td>17.209886</td>\n",
       "      <td>1</td>\n",
       "      <td>1</td>\n",
       "      <td>129.239553</td>\n",
       "      <td>19.306646</td>\n",
       "      <td>0</td>\n",
       "      <td>INDIVIDUAL</td>\n",
       "      <td>430</td>\n",
       "      <td>126029</td>\n",
       "      <td>22579</td>\n",
       "      <td>0</td>\n",
       "    </tr>\n",
       "  </tbody>\n",
       "</table>\n",
       "</div>"
      ],
      "text/plain": [
       "   Loan Amount  Funded Amount Investor  Interest Rate Grade Sub Grade  \\\n",
       "0        10000             12329.36286      11.135007     B        C4   \n",
       "1         3609             12191.99692      12.237563     C        D3   \n",
       "2        28276             21603.22455      12.545884     F        D4   \n",
       "3        11170             17877.15585      16.731201     C        C3   \n",
       "4        16890             13539.92667      15.008300     C        D4   \n",
       "\n",
       "  Employment Duration  Home Ownership Verification Status  Debit to Income  \\\n",
       "0            MORTGAGE    176346.62670        Not Verified        16.284758   \n",
       "1                RENT     39833.92100     Source Verified        15.412409   \n",
       "2            MORTGAGE     91506.69105     Source Verified        28.137619   \n",
       "3            MORTGAGE    108286.57590     Source Verified        18.043730   \n",
       "4            MORTGAGE     44234.82545     Source Verified        17.209886   \n",
       "\n",
       "   Delinquency - two years  Public Record  Total Received Interest  \\\n",
       "0                        1              0              2929.646315   \n",
       "1                        0              0               772.769385   \n",
       "2                        0              0               863.324396   \n",
       "3                        1              0               288.173196   \n",
       "4                        1              1               129.239553   \n",
       "\n",
       "   Total Received Late Fee  Collection 12 months Medical Application Type  \\\n",
       "0                 0.102055                             0       INDIVIDUAL   \n",
       "1                 0.036181                             0       INDIVIDUAL   \n",
       "2                18.778660                             0       INDIVIDUAL   \n",
       "3                 0.044131                             0       INDIVIDUAL   \n",
       "4                19.306646                             0       INDIVIDUAL   \n",
       "\n",
       "   Total Collection Amount  Total Current Balance  \\\n",
       "0                       31                 311301   \n",
       "1                       53                 182610   \n",
       "2                       34                  89801   \n",
       "3                       40                   9189   \n",
       "4                      430                 126029   \n",
       "\n",
       "   Total Revolving Credit Limit  Loan Status  \n",
       "0                          6619            0  \n",
       "1                         20885            0  \n",
       "2                         26155            0  \n",
       "3                         60214            0  \n",
       "4                         22579            0  "
      ]
     },
     "execution_count": 97,
     "metadata": {},
     "output_type": "execute_result"
    }
   ],
   "source": [
    "data_clean = drop_useless(data)\n",
    "data_clean.head()"
   ]
  },
  {
   "cell_type": "code",
   "execution_count": 98,
   "metadata": {},
   "outputs": [
    {
     "data": {
      "text/plain": [
       "Index(['Loan Amount', 'Funded Amount Investor', 'Interest Rate', 'Grade',\n",
       "       'Sub Grade', 'Employment Duration', 'Home Ownership',\n",
       "       'Verification Status', 'Debit to Income', 'Delinquency - two years',\n",
       "       'Public Record', 'Total Received Interest', 'Total Received Late Fee',\n",
       "       'Collection 12 months Medical', 'Application Type',\n",
       "       'Total Collection Amount', 'Total Current Balance',\n",
       "       'Total Revolving Credit Limit', 'Loan Status'],\n",
       "      dtype='object')"
      ]
     },
     "execution_count": 98,
     "metadata": {},
     "output_type": "execute_result"
    }
   ],
   "source": [
    "data_clean.columns"
   ]
  },
  {
   "cell_type": "markdown",
   "metadata": {},
   "source": [
    "## UNIVARIATE ANALYSIS"
   ]
  },
  {
   "cell_type": "code",
   "execution_count": 99,
   "metadata": {},
   "outputs": [
    {
     "data": {
      "text/plain": [
       "array([[<AxesSubplot:title={'center':'Loan Amount'}>,\n",
       "        <AxesSubplot:title={'center':'Funded Amount Investor'}>,\n",
       "        <AxesSubplot:title={'center':'Interest Rate'}>,\n",
       "        <AxesSubplot:title={'center':'Home Ownership'}>],\n",
       "       [<AxesSubplot:title={'center':'Debit to Income'}>,\n",
       "        <AxesSubplot:title={'center':'Delinquency - two years'}>,\n",
       "        <AxesSubplot:title={'center':'Public Record'}>,\n",
       "        <AxesSubplot:title={'center':'Total Received Interest'}>],\n",
       "       [<AxesSubplot:title={'center':'Total Received Late Fee'}>,\n",
       "        <AxesSubplot:title={'center':'Collection 12 months Medical'}>,\n",
       "        <AxesSubplot:title={'center':'Total Collection Amount'}>,\n",
       "        <AxesSubplot:title={'center':'Total Current Balance'}>],\n",
       "       [<AxesSubplot:title={'center':'Total Revolving Credit Limit'}>,\n",
       "        <AxesSubplot:title={'center':'Loan Status'}>, <AxesSubplot:>,\n",
       "        <AxesSubplot:>]], dtype=object)"
      ]
     },
     "execution_count": 99,
     "metadata": {},
     "output_type": "execute_result"
    },
    {
     "data": {
      "image/png": "[encoded data removed]",
      "text/plain": [
       "<Figure size 1440x1440 with 16 Axes>"
      ]
     },
     "metadata": {
      "needs_background": "light"
     },
     "output_type": "display_data"
    }
   ],
   "source": [
    "# plot histogram of all numerical columns\n",
    "data_clean.hist(figsize=(20, 20))"
   ]
  },
  {
   "cell_type": "code",
   "execution_count": null,
   "metadata": {},
   "outputs": [],
   "source": []
  },
  {
   "cell_type": "markdown",
   "metadata": {},
   "source": [
    "## Interesting findings from the Hists\n",
    "`Loan Status` has large discrepancy between the two classes. Hence, when training the model, we will try to reduce the number of 0 classifications in order to reduce the bias towards the 0 class.\n",
    "\n",
    "`Total Current Balance`, `Total Revolving Credit Limit`, `Total Collection Amount`, `Total Received Late Fee` and `Total Receieved Interest` are highly skewed. We will try to reduce the skewness of these variables."
   ]
  },
  {
   "cell_type": "code",
   "execution_count": 107,
   "metadata": {},
   "outputs": [
    {
     "name": "stderr",
     "output_type": "stream",
     "text": [
      "/Users/SPECTRE/opt/anaconda3/envs/dsc80/lib/python3.8/site-packages/seaborn/_decorators.py:36: FutureWarning: Pass the following variable as a keyword arg: x. From version 0.12, the only valid positional argument will be `data`, and passing other arguments without an explicit keyword will result in an error or misinterpretation.\n",
      "  warnings.warn(\n",
      "/Users/SPECTRE/opt/anaconda3/envs/dsc80/lib/python3.8/site-packages/seaborn/_decorators.py:36: FutureWarning: Pass the following variable as a keyword arg: x. From version 0.12, the only valid positional argument will be `data`, and passing other arguments without an explicit keyword will result in an error or misinterpretation.\n",
      "  warnings.warn(\n",
      "/Users/SPECTRE/opt/anaconda3/envs/dsc80/lib/python3.8/site-packages/seaborn/_decorators.py:36: FutureWarning: Pass the following variable as a keyword arg: x. From version 0.12, the only valid positional argument will be `data`, and passing other arguments without an explicit keyword will result in an error or misinterpretation.\n",
      "  warnings.warn(\n",
      "/Users/SPECTRE/opt/anaconda3/envs/dsc80/lib/python3.8/site-packages/seaborn/_decorators.py:36: FutureWarning: Pass the following variable as a keyword arg: x. From version 0.12, the only valid positional argument will be `data`, and passing other arguments without an explicit keyword will result in an error or misinterpretation.\n",
      "  warnings.warn(\n",
      "/Users/SPECTRE/opt/anaconda3/envs/dsc80/lib/python3.8/site-packages/seaborn/_decorators.py:36: FutureWarning: Pass the following variable as a keyword arg: x. From version 0.12, the only valid positional argument will be `data`, and passing other arguments without an explicit keyword will result in an error or misinterpretation.\n",
      "  warnings.warn(\n"
     ]
    },
    {
     "data": {
      "text/plain": [
       "<AxesSubplot:xlabel='Total Received Interest'>"
      ]
     },
     "execution_count": 107,
     "metadata": {},
     "output_type": "execute_result"
    },
    {
     "data": {
      "image/png": "[encoded data removed]",
      "text/plain": [
       "<Figure size 1440x1440 with 5 Axes>"
      ]
     },
     "metadata": {
      "needs_background": "light"
     },
     "output_type": "display_data"
    }
   ],
   "source": [
    "# Box plots of `Total Current Balance`, `Total Revolving Credit Limit`, `Total Collection Amount`, `Total Received Late Fee` and `Total Receieved Interest` using seaborn and subpllots\n",
    "ax = plt.subplots(figsize=(20, 20))\n",
    "\n",
    "plt.subplot(3, 2, 1)\n",
    "sns.boxplot(data_clean['Total Current Balance'])\n",
    "\n",
    "plt.subplot(3, 2, 2)\n",
    "sns.boxplot(data_clean['Total Revolving Credit Limit'])\n",
    "\n",
    "plt.subplot(3, 2, 3)\n",
    "sns.boxplot(data_clean['Total Collection Amount'])\n",
    "\n",
    "plt.subplot(3, 2, 4)\n",
    "sns.boxplot(data_clean['Total Received Late Fee'])\n",
    "\n",
    "plt.subplot(3, 2, 5)\n",
    "sns.boxplot(data_clean['Total Received Interest'])"
   ]
  },
  {
   "cell_type": "markdown",
   "metadata": {},
   "source": [
    "## BIVARIATE ANALYSIS"
   ]
  },
  {
   "cell_type": "code",
   "execution_count": 109,
   "metadata": {},
   "outputs": [
    {
     "data": {
      "text/plain": [
       "<matplotlib.legend.Legend at 0x7feed40c91f0>"
      ]
     },
     "execution_count": 109,
     "metadata": {},
     "output_type": "execute_result"
    },
    {
     "data": {
      "image/png": "[encoded data removed]",
      "text/plain": [
       "<Figure size 432x288 with 1 Axes>"
      ]
     },
     "metadata": {
      "needs_background": "light"
     },
     "output_type": "display_data"
    }
   ],
   "source": [
    "# plot a graph grouping by the grades and sub grades and plotting the count of 0 for each grade and sub grade\n",
    "data_clean.groupby('Grade')['Loan Status'].value_counts().unstack().plot(kind='bar', color=['lightgreen', 'lightblue'])\n",
    "# rename legend 0 to not approved and 1 to approved\n",
    "plt.legend(['Not Approved', 'Approved'])"
   ]
  },
  {
   "cell_type": "code",
   "execution_count": 110,
   "metadata": {},
   "outputs": [
    {
     "data": {
      "text/html": [
       "<div>\n",
       "<style scoped>\n",
       "    .dataframe tbody tr th:only-of-type {\n",
       "        vertical-align: middle;\n",
       "    }\n",
       "\n",
       "    .dataframe tbody tr th {\n",
       "        vertical-align: top;\n",
       "    }\n",
       "\n",
       "    .dataframe thead th {\n",
       "        text-align: right;\n",
       "    }\n",
       "</style>\n",
       "<table border=\"1\" class=\"dataframe\">\n",
       "  <thead>\n",
       "    <tr style=\"text-align: right;\">\n",
       "      <th>Loan Status</th>\n",
       "      <th>0</th>\n",
       "      <th>1</th>\n",
       "    </tr>\n",
       "    <tr>\n",
       "      <th>Grade</th>\n",
       "      <th></th>\n",
       "      <th></th>\n",
       "    </tr>\n",
       "  </thead>\n",
       "  <tbody>\n",
       "    <tr>\n",
       "      <th>A</th>\n",
       "      <td>0.908752</td>\n",
       "      <td>0.091248</td>\n",
       "    </tr>\n",
       "    <tr>\n",
       "      <th>B</th>\n",
       "      <td>0.912763</td>\n",
       "      <td>0.087237</td>\n",
       "    </tr>\n",
       "    <tr>\n",
       "      <th>C</th>\n",
       "      <td>0.906104</td>\n",
       "      <td>0.093896</td>\n",
       "    </tr>\n",
       "    <tr>\n",
       "      <th>D</th>\n",
       "      <td>0.903620</td>\n",
       "      <td>0.096380</td>\n",
       "    </tr>\n",
       "    <tr>\n",
       "      <th>E</th>\n",
       "      <td>0.904127</td>\n",
       "      <td>0.095873</td>\n",
       "    </tr>\n",
       "    <tr>\n",
       "      <th>F</th>\n",
       "      <td>0.896260</td>\n",
       "      <td>0.103740</td>\n",
       "    </tr>\n",
       "    <tr>\n",
       "      <th>G</th>\n",
       "      <td>0.893651</td>\n",
       "      <td>0.106349</td>\n",
       "    </tr>\n",
       "  </tbody>\n",
       "</table>\n",
       "</div>"
      ],
      "text/plain": [
       "Loan Status         0         1\n",
       "Grade                          \n",
       "A            0.908752  0.091248\n",
       "B            0.912763  0.087237\n",
       "C            0.906104  0.093896\n",
       "D            0.903620  0.096380\n",
       "E            0.904127  0.095873\n",
       "F            0.896260  0.103740\n",
       "G            0.893651  0.106349"
      ]
     },
     "execution_count": 110,
     "metadata": {},
     "output_type": "execute_result"
    }
   ],
   "source": [
    "# get the percentage of 0s and 1s for each grade\n",
    "data_clean.groupby('Grade')['Loan Status'].value_counts(normalize=True).unstack()"
   ]
  },
  {
   "cell_type": "code",
   "execution_count": 111,
   "metadata": {},
   "outputs": [
    {
     "data": {
      "text/plain": [
       "<AxesSubplot:xlabel='Grade,Loan Status'>"
      ]
     },
     "execution_count": 111,
     "metadata": {},
     "output_type": "execute_result"
    },
    {
     "data": {
      "image/png": "[encoded data removed]",
      "text/plain": [
       "<Figure size 432x288 with 1 Axes>"
      ]
     },
     "metadata": {
      "needs_background": "light"
     },
     "output_type": "display_data"
    }
   ],
   "source": [
    "# Groupby grade, count the number of 0s and 1s for each grade and and get the percetage of 1s for each grade\n",
    "temp = data_clean.groupby('Grade')['Loan Status'].value_counts()\n",
    "# get the percentages of 1s for each grade\n",
    "temp = temp.groupby(level=0).apply(lambda x: 100 * x / float(x.sum()))\n",
    "# plot all the 1s percentages for each grade    \n",
    "temp.loc[temp.index.get_level_values(1) == 1].plot(kind='bar')"
   ]
  },
  {
   "cell_type": "code",
   "execution_count": 112,
   "metadata": {},
   "outputs": [
    {
     "data": {
      "text/plain": [
       "Text(0.5, 1.0, 'Grade G')"
      ]
     },
     "execution_count": 112,
     "metadata": {},
     "output_type": "execute_result"
    },
    {
     "data": {
      "image/png": "[encoded data removed]",
      "text/plain": [
       "<Figure size 1440x4320 with 7 Axes>"
      ]
     },
     "metadata": {
      "needs_background": "light"
     },
     "output_type": "display_data"
    }
   ],
   "source": [
    "# groupby grade and subgrade\n",
    "temp = data_clean.groupby(['Grade', 'Sub Grade'])['Loan Status'].value_counts()\n",
    "\n",
    "# Use subplots and 1 for each grade\n",
    "ax = plt.subplots(figsize=(20, 60))\n",
    "\n",
    "plt.subplot(7, 1, 1)\n",
    "temp.loc['A'].loc[temp.loc['A'].index.get_level_values(1) == 1].plot(kind='bar')\n",
    "plt.title('Grade A')\n",
    "\n",
    "\n",
    "plt.subplot(7, 1, 2)\n",
    "temp.loc['B'].loc[temp.loc['B'].index.get_level_values(1) == 1].plot(kind='bar')\n",
    "plt.title('Grade B')\n",
    "\n",
    "plt.subplot(7, 1, 3)\n",
    "temp.loc['C'].loc[temp.loc['C'].index.get_level_values(1) == 1].plot(kind='bar')\n",
    "plt.title('Grade C')\n",
    "\n",
    "plt.subplot(7, 1, 4)\n",
    "temp.loc['D'].loc[temp.loc['D'].index.get_level_values(1) == 1].plot(kind='bar')\n",
    "plt.title('Grade D')\n",
    "\n",
    "plt.subplot(7, 1, 5)\n",
    "temp.loc['E'].loc[temp.loc['E'].index.get_level_values(1) == 1].plot(kind='bar')\n",
    "plt.title('Grade E')\n",
    "\n",
    "plt.subplot(7, 1, 6)\n",
    "temp.loc['F'].loc[temp.loc['F'].index.get_level_values(1) == 1].plot(kind='bar')\n",
    "plt.title('Grade F')\n",
    "\n",
    "plt.subplot(7, 1, 7)\n",
    "temp.loc['G'].loc[temp.loc['G'].index.get_level_values(1) == 1].plot(kind='bar')\n",
    "plt.title('Grade G')\n"
   ]
  },
  {
   "cell_type": "code",
   "execution_count": 113,
   "metadata": {},
   "outputs": [
    {
     "data": {
      "text/plain": [
       "<AxesSubplot:xlabel='Application Type'>"
      ]
     },
     "execution_count": 113,
     "metadata": {},
     "output_type": "execute_result"
    },
    {
     "data": {
      "image/png": "[encoded data removed]",
      "text/plain": [
       "<Figure size 432x288 with 1 Axes>"
      ]
     },
     "metadata": {
      "needs_background": "light"
     },
     "output_type": "display_data"
    }
   ],
   "source": [
    "# plot application type vs loan status as percentage of 1s for each application type\n",
    "data_clean.groupby('Application Type')['Loan Status'].value_counts(normalize=True).unstack().plot(kind='bar')"
   ]
  },
  {
   "cell_type": "code",
   "execution_count": 114,
   "metadata": {},
   "outputs": [],
   "source": [
    "zeros = data_clean.loc[data_clean[\"Loan Status\"] == 0]\n",
    "ones =  data_clean.loc[data_clean[\"Loan Status\"] == 1]\n",
    "\n",
    "balanced = zeros.sample(ones.shape[0])\n",
    "balanced_df = pd.concat([ones, balanced], axis = 0).reset_index()"
   ]
  },
  {
   "cell_type": "code",
   "execution_count": 115,
   "metadata": {},
   "outputs": [
    {
     "data": {
      "text/plain": [
       "Text(0.5, 1.0, 'Delinquency - two years vs Loan Status')"
      ]
     },
     "execution_count": 115,
     "metadata": {},
     "output_type": "execute_result"
    },
    {
     "data": {
      "image/png": "[encoded data removed]",
      "text/plain": [
       "<Figure size 1440x720 with 1 Axes>"
      ]
     },
     "metadata": {
      "needs_background": "light"
     },
     "output_type": "display_data"
    }
   ],
   "source": [
    "# deliquency 2 years vs loan status , one for 0 loan status and one for 1 loan status\n",
    "data_clean.groupby('Loan Status')['Delinquency - two years'].value_counts().unstack().plot(kind='bar', figsize=(20, 10))\n",
    "# title\n",
    "plt.title('Delinquency - two years vs Loan Status')\n",
    "# rename the legend name"
   ]
  },
  {
   "cell_type": "code",
   "execution_count": 116,
   "metadata": {},
   "outputs": [
    {
     "data": {
      "text/plain": [
       "Text(0.5, 1.0, 'Delinquency - two years vs Loan Status')"
      ]
     },
     "execution_count": 116,
     "metadata": {},
     "output_type": "execute_result"
    },
    {
     "data": {
      "image/png": "[encoded data removed]",
      "text/plain": [
       "<Figure size 1440x720 with 1 Axes>"
      ]
     },
     "metadata": {
      "needs_background": "light"
     },
     "output_type": "display_data"
    }
   ],
   "source": [
    "# deliquency 2 years vs loan status , one for 0 loan status and one for 1 loan status\n",
    "balanced_df.groupby('Loan Status')['Delinquency - two years'].value_counts().unstack().plot(kind='bar', figsize=(20, 10))\n",
    "# title\n",
    "plt.title('Delinquency - two years vs Loan Status')\n",
    "# rename the legend name"
   ]
  },
  {
   "cell_type": "code",
   "execution_count": 117,
   "metadata": {},
   "outputs": [
    {
     "data": {
      "text/plain": [
       "Delinquency - two years  Loan Status\n",
       "0                        0              0.772222\n",
       "1                        0              0.173859\n",
       "2                        0              0.039136\n",
       "3                        0              0.006550\n",
       "4                        0              0.000212\n",
       "5                        0              0.001062\n",
       "6                        0              0.002679\n",
       "7                        0              0.003675\n",
       "8                        0              0.000604\n",
       "Name: Loan Status, dtype: float64"
      ]
     },
     "execution_count": 117,
     "metadata": {},
     "output_type": "execute_result"
    }
   ],
   "source": [
    "data_clean[data_clean['Loan Status'] == 0].groupby('Delinquency - two years')['Loan Status'].value_counts()/data_clean[data_clean['Loan Status'] == 0].shape[0]"
   ]
  },
  {
   "cell_type": "code",
   "execution_count": 118,
   "metadata": {},
   "outputs": [
    {
     "data": {
      "text/plain": [
       "Delinquency - two years  Loan Status\n",
       "0                        1              0.765422\n",
       "1                        1              0.174972\n",
       "2                        1              0.040859\n",
       "3                        1              0.007050\n",
       "4                        1              0.000481\n",
       "5                        1              0.001442\n",
       "6                        1              0.004326\n",
       "7                        1              0.004326\n",
       "8                        1              0.001122\n",
       "Name: Loan Status, dtype: float64"
      ]
     },
     "execution_count": 118,
     "metadata": {},
     "output_type": "execute_result"
    }
   ],
   "source": [
    "data_clean[data_clean['Loan Status'] == 1].groupby('Delinquency - two years')['Loan Status'].value_counts()/data_clean[data_clean['Loan Status'] == 1].shape[0]"
   ]
  },
  {
   "cell_type": "code",
   "execution_count": 119,
   "metadata": {},
   "outputs": [
    {
     "data": {
      "text/html": [
       "<div>\n",
       "<style scoped>\n",
       "    .dataframe tbody tr th:only-of-type {\n",
       "        vertical-align: middle;\n",
       "    }\n",
       "\n",
       "    .dataframe tbody tr th {\n",
       "        vertical-align: top;\n",
       "    }\n",
       "\n",
       "    .dataframe thead th {\n",
       "        text-align: right;\n",
       "    }\n",
       "</style>\n",
       "<table border=\"1\" class=\"dataframe\">\n",
       "  <thead>\n",
       "    <tr style=\"text-align: right;\">\n",
       "      <th>Delinquency - two years</th>\n",
       "      <th>0</th>\n",
       "      <th>1</th>\n",
       "      <th>2</th>\n",
       "      <th>3</th>\n",
       "      <th>4</th>\n",
       "      <th>5</th>\n",
       "      <th>6</th>\n",
       "      <th>7</th>\n",
       "      <th>8</th>\n",
       "    </tr>\n",
       "    <tr>\n",
       "      <th>Loan Status</th>\n",
       "      <th></th>\n",
       "      <th></th>\n",
       "      <th></th>\n",
       "      <th></th>\n",
       "      <th></th>\n",
       "      <th></th>\n",
       "      <th></th>\n",
       "      <th></th>\n",
       "      <th></th>\n",
       "    </tr>\n",
       "  </thead>\n",
       "  <tbody>\n",
       "    <tr>\n",
       "      <th>0</th>\n",
       "      <td>0.772222</td>\n",
       "      <td>0.173859</td>\n",
       "      <td>0.039136</td>\n",
       "      <td>0.00655</td>\n",
       "      <td>0.000212</td>\n",
       "      <td>0.001062</td>\n",
       "      <td>0.002679</td>\n",
       "      <td>0.003675</td>\n",
       "      <td>0.000604</td>\n",
       "    </tr>\n",
       "    <tr>\n",
       "      <th>1</th>\n",
       "      <td>0.765422</td>\n",
       "      <td>0.174972</td>\n",
       "      <td>0.040859</td>\n",
       "      <td>0.00705</td>\n",
       "      <td>0.000481</td>\n",
       "      <td>0.001442</td>\n",
       "      <td>0.004326</td>\n",
       "      <td>0.004326</td>\n",
       "      <td>0.001122</td>\n",
       "    </tr>\n",
       "    <tr>\n",
       "      <th>Diff Approved vs Not Approved</th>\n",
       "      <td>-0.006800</td>\n",
       "      <td>0.001113</td>\n",
       "      <td>0.001723</td>\n",
       "      <td>0.00050</td>\n",
       "      <td>0.000268</td>\n",
       "      <td>0.000380</td>\n",
       "      <td>0.001647</td>\n",
       "      <td>0.000651</td>\n",
       "      <td>0.000517</td>\n",
       "    </tr>\n",
       "  </tbody>\n",
       "</table>\n",
       "</div>"
      ],
      "text/plain": [
       "Delinquency - two years               0         1         2        3  \\\n",
       "Loan Status                                                            \n",
       "0                              0.772222  0.173859  0.039136  0.00655   \n",
       "1                              0.765422  0.174972  0.040859  0.00705   \n",
       "Diff Approved vs Not Approved -0.006800  0.001113  0.001723  0.00050   \n",
       "\n",
       "Delinquency - two years               4         5         6         7  \\\n",
       "Loan Status                                                             \n",
       "0                              0.000212  0.001062  0.002679  0.003675   \n",
       "1                              0.000481  0.001442  0.004326  0.004326   \n",
       "Diff Approved vs Not Approved  0.000268  0.000380  0.001647  0.000651   \n",
       "\n",
       "Delinquency - two years               8  \n",
       "Loan Status                              \n",
       "0                              0.000604  \n",
       "1                              0.001122  \n",
       "Diff Approved vs Not Approved  0.000517  "
      ]
     },
     "execution_count": 119,
     "metadata": {},
     "output_type": "execute_result"
    }
   ],
   "source": [
    "# deliquency 2 years vs loan status , one for 0 loan status and one for 1 loan status percentage\n",
    "temp = data_clean.groupby('Loan Status')['Delinquency - two years'].value_counts(normalize=True).unstack()\n",
    "# at a row which is the diff\n",
    "temp.loc[\"Diff Approved vs Not Approved\"] = temp.loc[1] - temp.loc[0]\n",
    "temp"
   ]
  },
  {
   "cell_type": "code",
   "execution_count": 120,
   "metadata": {},
   "outputs": [
    {
     "data": {
      "text/plain": [
       "Text(0, 0.5, 'Total Collection Amount')"
      ]
     },
     "execution_count": 120,
     "metadata": {},
     "output_type": "execute_result"
    },
    {
     "data": {
      "image/png": "[encoded data removed]",
      "text/plain": [
       "<Figure size 432x288 with 1 Axes>"
      ]
     },
     "metadata": {
      "needs_background": "light"
     },
     "output_type": "display_data"
    }
   ],
   "source": [
    "# plot scatter of Total Revolving Credit Limit vs Total Collection Amount and color the points by loan status\n",
    "plt.scatter(data_clean['Total Revolving Credit Limit'], data_clean['Total Collection Amount'], c=data_clean['Loan Status'])\n",
    "# title\n",
    "plt.title('Total Revolving Credit Limit vs Total Collection Amount')\n",
    "# legend\n",
    "plt.legend(['Not Approved', 'Approved'])\n",
    "# qxis labels\n",
    "plt.xlabel('Total Revolving Credit Limit')\n",
    "plt.ylabel('Total Collection Amount')"
   ]
  },
  {
   "cell_type": "code",
   "execution_count": 121,
   "metadata": {},
   "outputs": [
    {
     "data": {
      "text/plain": [
       "Text(0, 0.5, 'Total Collection Amount')"
      ]
     },
     "execution_count": 121,
     "metadata": {},
     "output_type": "execute_result"
    },
    {
     "data": {
      "image/png": "[encoded data removed]",
      "text/plain": [
       "<Figure size 432x288 with 1 Axes>"
      ]
     },
     "metadata": {
      "needs_background": "light"
     },
     "output_type": "display_data"
    }
   ],
   "source": [
    "# plot scatter of Total Revolving Credit Limit vs Total Collection Amount and color the points by loan status\n",
    "plt.scatter(balanced_df['Total Revolving Credit Limit'], balanced_df['Total Collection Amount'], c=balanced_df['Loan Status'])\n",
    "# title\n",
    "plt.title('Total Revolving Credit Limit vs Total Collection Amount')\n",
    "# legend\n",
    "plt.legend(['Not Approved', 'Approved'])\n",
    "# qxis labels\n",
    "plt.xlabel('Total Revolving Credit Limit')\n",
    "plt.ylabel('Total Collection Amount')"
   ]
  },
  {
   "cell_type": "code",
   "execution_count": 122,
   "metadata": {},
   "outputs": [
    {
     "data": {
      "text/plain": [
       "<AxesSubplot:xlabel='Loan Status'>"
      ]
     },
     "execution_count": 122,
     "metadata": {},
     "output_type": "execute_result"
    },
    {
     "data": {
      "image/png": "[encoded data removed]",
      "text/plain": [
       "<Figure size 432x288 with 1 Axes>"
      ]
     },
     "metadata": {
      "needs_background": "light"
     },
     "output_type": "display_data"
    }
   ],
   "source": [
    "# Verification Statues vs loan status\n",
    "data_clean.groupby('Loan Status')['Verification Status'].value_counts().unstack().plot(kind='bar')"
   ]
  },
  {
   "cell_type": "code",
   "execution_count": 123,
   "metadata": {},
   "outputs": [
    {
     "data": {
      "text/plain": [
       "<AxesSubplot:xlabel='Loan Status'>"
      ]
     },
     "execution_count": 123,
     "metadata": {},
     "output_type": "execute_result"
    },
    {
     "data": {
      "image/png": "[encoded data removed]",
      "text/plain": [
       "<Figure size 432x288 with 1 Axes>"
      ]
     },
     "metadata": {
      "needs_background": "light"
     },
     "output_type": "display_data"
    }
   ],
   "source": [
    "# Verification Statues vs loan status\n",
    "balanced_df.groupby('Loan Status')['Verification Status'].value_counts().unstack().plot(kind='bar')"
   ]
  },
  {
   "cell_type": "code",
   "execution_count": 124,
   "metadata": {},
   "outputs": [
    {
     "data": {
      "text/plain": [
       "<AxesSubplot:xlabel='Loan Status'>"
      ]
     },
     "execution_count": 124,
     "metadata": {},
     "output_type": "execute_result"
    },
    {
     "data": {
      "image/png": "[encoded data removed]",
      "text/plain": [
       "<Figure size 432x288 with 1 Axes>"
      ]
     },
     "metadata": {
      "needs_background": "light"
     },
     "output_type": "display_data"
    }
   ],
   "source": [
    "# Loan Amount vs loan status\n",
    "data_clean.groupby('Loan Status')['Loan Amount'].min().plot(kind='bar')"
   ]
  },
  {
   "cell_type": "markdown",
   "metadata": {},
   "source": [
    "# BASELINE MODEL"
   ]
  },
  {
   "cell_type": "markdown",
   "metadata": {},
   "source": [
    "### Models evaluated\n",
    "\n",
    "For the baseline model we are using Logistic Classification, K-means classification, Decision tree Classifier, Random Forest Classifier. \n",
    "The features we use are : *insert an image of features*\n",
    "We choose to evaluate these models using F-1 score because this dataset has imbbalanced classes. It combines precision and recall into a single score hence balancing both measures. \n",
    "We perform basic one hot encoding on the categorical features and leave all other features as it is. \n",
    "\n",
    "Logistic Regression\n",
    "This assumes linear relationship between the features and the label (loan status). The f-1 score for this model is 0. This means that the model is not useful and performs badly\n",
    "\n",
    "Decision tree Classifier \n",
    "this model is a non-parametric supervised learning algorithm, which is utilized for both classification and regression tasks. They break down complex data into more manageable parts. Decison trees can automatically handle missing values, can be used to capture non-linear relationships, and are used for both numerical and catagorical data. After testing this model against our unbalanced dataset we get a f-1 score of 0.015 which is better than Logistic Regression. \n",
    "\n",
    "Random Forest Classifier \n",
    "Random forests or random decision forests is an ensemble learning method for classification, regression and other tasks that operates by constructing a multitude of decision trees at training time. It does sometimes tend to overfit the data but there are ways we can optimize it and prevent from overfitting. The f-1 score for this model on our unbalanced dataset is 0.13.\n",
    "\n",
    "The baseline models are fitted on the same trainings set.All hyperparametrs are default to test the basic model performance. \n",
    "\n",
    "### Result\n",
    "From analysisng the models above, we choose to further work on Decision trees and Random Forest Classifiers. We aim to perform feauture engineering, choose the optimum hyperparameters, and other optimization of model to select our final model. \n"
   ]
  },
  {
   "cell_type": "code",
   "execution_count": 162,
   "metadata": {},
   "outputs": [],
   "source": [
    "from sklearn.model_selection import train_test_split\n",
    "from sklearn.linear_model import LogisticRegression\n",
    "from sklearn.metrics import accuracy_score, f1_score, confusion_matrix\n",
    "from sklearn.preprocessing import OneHotEncoder, StandardScaler\n",
    "from sklearn.compose import ColumnTransformer\n",
    "from sklearn.pipeline import Pipeline\n",
    "from sklearn.tree import DecisionTreeClassifier\n",
    "from sklearn.linear_model import LogisticRegression\n",
    "from sklearn.ensemble import RandomForestClassifier\n",
    "from sklearn.preprocessing import OrdinalEncoder\n",
    "from sklearn.model_selection import GridSearchCV"
   ]
  },
  {
   "cell_type": "code",
   "execution_count": 125,
   "metadata": {},
   "outputs": [],
   "source": [
    "X = data_clean.drop('Loan Status', axis=1)\n",
    "y = data_clean['Loan Status']\n",
    "\n",
    "X_train, X_test, y_train, y_test = train_test_split(X, y, test_size=0.2, random_state=42)"
   ]
  },
  {
   "cell_type": "code",
   "execution_count": 126,
   "metadata": {},
   "outputs": [],
   "source": [
    "preproc = ColumnTransformer([\n",
    "    (\"one-hot\", OneHotEncoder(handle_unknown=\"ignore\"), [\"Grade\", \"Sub Grade\", \"Employment Duration\", \"Verification Status\", \"Application Type\"])\n",
    "], remainder=\"passthrough\")"
   ]
  },
  {
   "cell_type": "code",
   "execution_count": 130,
   "metadata": {},
   "outputs": [
    {
     "name": "stdout",
     "output_type": "stream",
     "text": [
      "Model:  RandomForestClassifier()\n",
      "Accuracy Score:  0.9097309716149115\n",
      "F1 Score:  0.0\n",
      "Class 0: 13493\n",
      "Class 1: 0\n",
      "\n",
      "Model:  LogisticRegression()\n",
      "Accuracy Score:  0.9097309716149115\n",
      "F1 Score:  0.0\n",
      "Class 0: 13493\n",
      "Class 1: 0\n",
      "\n",
      "Model:  DecisionTreeClassifier()\n",
      "Accuracy Score:  0.8205736307715111\n",
      "F1 Score:  0.10033444816053513\n",
      "Class 0: 12020\n",
      "Class 1: 1473\n",
      "\n"
     ]
    }
   ],
   "source": [
    "rf = RandomForestClassifier() #Random Forest Classifier\n",
    "log = LogisticRegression() #Logistic Regression\n",
    "dt = DecisionTreeClassifier() #Decision Tree Classifier\n",
    "\n",
    "for i in range(3):\n",
    "    if i == 0:\n",
    "        model = rf\n",
    "    elif i == 1:\n",
    "        model = log\n",
    "    elif i == 2:\n",
    "        model = dt\n",
    "\n",
    "    pipe = Pipeline([\n",
    "        (\"preprocessing\", preproc),\n",
    "        (\"model\", model)\n",
    "    ])\n",
    "\n",
    "    pipe.fit(X_train, y_train)\n",
    "    y_pred = pipe.predict(X_test)\n",
    "    print(\"Model: \", model)\n",
    "    print(\"Accuracy Score: \", accuracy_score(y_test, y_pred))\n",
    "    print(\"F1 Score: \", f1_score(y_test, y_pred))\n",
    "    print(\"Class 0:\", (y_pred == 0).sum())\n",
    "    print(\"Class 1:\", (y_pred == 1).sum())\n",
    "    print(\"\")"
   ]
  },
  {
   "cell_type": "markdown",
   "metadata": {},
   "source": []
  },
  {
   "cell_type": "markdown",
   "metadata": {},
   "source": [
    "# FEATURE ENGINEERING"
   ]
  },
  {
   "cell_type": "markdown",
   "metadata": {},
   "source": [
    "OneHotEncoding - One-hot encoding in machine learning is the conversion of categorical information into a format that may be fed into machine learning algorithms to improve prediction accuracy. We are one hot encoding the catagorical features \"Employment Duration\", \"Verification Status\", \"Application Type\", \"Delinquency - two years\", \"Collection 12 months Medical\". Because these features are not in any specific order or cannot be classified as ordinal, we are choosing it over other encoding methods. \n",
    "\n",
    "Ordinal Encoding - We are combining teh columns Grade and Sub Grade to make a new column called GradeSubGrade. Since these grade catagories are ordinal, we prefer ordinal encoding over OneHotEncoding or any other encoding methods. For example, the grade AF1 is worse than grade AA1. This also makes the model more efficient by reducing the memory (number of columns in onehotencoding) and increasing the speed. \n",
    "\n",
    "Since this dataset in highly unbalanced, we decide to balance the dataset by undersampling. Since in real world we the loan status is not equally likely to be defaulted, we try to keep the perecntage divide unequal yet close. We run a test and choose the most optimal balanced set."
   ]
  },
  {
   "cell_type": "markdown",
   "metadata": {},
   "source": [
    "### Combining grade and subgrade and ordinally encoding it"
   ]
  },
  {
   "cell_type": "code",
   "execution_count": 132,
   "metadata": {},
   "outputs": [],
   "source": [
    "data = pd.read_csv(\"/Users/SPECTRE/Downloads/archive-3/train.csv\")\n",
    "train = drop_useless(data)\n",
    "\n",
    "grade = train[\"Grade\"].unique()\n",
    "subgrade = train[\"Sub Grade\"].unique()\n",
    "train[\"GradeSubGrade\"] = train[\"Grade\"] + train[\"Sub Grade\"]\n",
    "train = train.drop(columns= [\"Grade\", \"Sub Grade\"])"
   ]
  },
  {
   "cell_type": "code",
   "execution_count": 133,
   "metadata": {},
   "outputs": [],
   "source": [
    "features = []\n",
    "\n",
    "for i in grade:\n",
    "    for j in subgrade:\n",
    "        lst = [i+j]\n",
    "        features.append(lst)\n",
    "features = np.unique(features)\n",
    "\n",
    "dicta = {}\n",
    "k = 1\n",
    "for i in features:\n",
    "    dicta[i] = k\n",
    "    k = k+1\n",
    "dicta\n",
    "\n",
    "train[\"GradeSubGrade\"] = train[\"GradeSubGrade\"].replace(dicta)"
   ]
  },
  {
   "cell_type": "code",
   "execution_count": 134,
   "metadata": {},
   "outputs": [
    {
     "data": {
      "text/html": [
       "<div>\n",
       "<style scoped>\n",
       "    .dataframe tbody tr th:only-of-type {\n",
       "        vertical-align: middle;\n",
       "    }\n",
       "\n",
       "    .dataframe tbody tr th {\n",
       "        vertical-align: top;\n",
       "    }\n",
       "\n",
       "    .dataframe thead th {\n",
       "        text-align: right;\n",
       "    }\n",
       "</style>\n",
       "<table border=\"1\" class=\"dataframe\">\n",
       "  <thead>\n",
       "    <tr style=\"text-align: right;\">\n",
       "      <th></th>\n",
       "      <th>Loan Amount</th>\n",
       "      <th>Funded Amount Investor</th>\n",
       "      <th>Interest Rate</th>\n",
       "      <th>Employment Duration</th>\n",
       "      <th>Home Ownership</th>\n",
       "      <th>Verification Status</th>\n",
       "      <th>Debit to Income</th>\n",
       "      <th>Delinquency - two years</th>\n",
       "      <th>Public Record</th>\n",
       "      <th>Total Received Interest</th>\n",
       "      <th>Total Received Late Fee</th>\n",
       "      <th>Collection 12 months Medical</th>\n",
       "      <th>Application Type</th>\n",
       "      <th>Total Collection Amount</th>\n",
       "      <th>Total Current Balance</th>\n",
       "      <th>Total Revolving Credit Limit</th>\n",
       "      <th>Loan Status</th>\n",
       "      <th>GradeSubGrade</th>\n",
       "    </tr>\n",
       "  </thead>\n",
       "  <tbody>\n",
       "    <tr>\n",
       "      <th>0</th>\n",
       "      <td>10000</td>\n",
       "      <td>12329.36286</td>\n",
       "      <td>11.135007</td>\n",
       "      <td>MORTGAGE</td>\n",
       "      <td>176346.62670</td>\n",
       "      <td>Not Verified</td>\n",
       "      <td>16.284758</td>\n",
       "      <td>1</td>\n",
       "      <td>0</td>\n",
       "      <td>2929.646315</td>\n",
       "      <td>0.102055</td>\n",
       "      <td>0</td>\n",
       "      <td>INDIVIDUAL</td>\n",
       "      <td>31</td>\n",
       "      <td>311301</td>\n",
       "      <td>6619</td>\n",
       "      <td>0</td>\n",
       "      <td>49</td>\n",
       "    </tr>\n",
       "    <tr>\n",
       "      <th>1</th>\n",
       "      <td>3609</td>\n",
       "      <td>12191.99692</td>\n",
       "      <td>12.237563</td>\n",
       "      <td>RENT</td>\n",
       "      <td>39833.92100</td>\n",
       "      <td>Source Verified</td>\n",
       "      <td>15.412409</td>\n",
       "      <td>0</td>\n",
       "      <td>0</td>\n",
       "      <td>772.769385</td>\n",
       "      <td>0.036181</td>\n",
       "      <td>0</td>\n",
       "      <td>INDIVIDUAL</td>\n",
       "      <td>53</td>\n",
       "      <td>182610</td>\n",
       "      <td>20885</td>\n",
       "      <td>0</td>\n",
       "      <td>88</td>\n",
       "    </tr>\n",
       "    <tr>\n",
       "      <th>2</th>\n",
       "      <td>28276</td>\n",
       "      <td>21603.22455</td>\n",
       "      <td>12.545884</td>\n",
       "      <td>MORTGAGE</td>\n",
       "      <td>91506.69105</td>\n",
       "      <td>Source Verified</td>\n",
       "      <td>28.137619</td>\n",
       "      <td>0</td>\n",
       "      <td>0</td>\n",
       "      <td>863.324396</td>\n",
       "      <td>18.778660</td>\n",
       "      <td>0</td>\n",
       "      <td>INDIVIDUAL</td>\n",
       "      <td>34</td>\n",
       "      <td>89801</td>\n",
       "      <td>26155</td>\n",
       "      <td>0</td>\n",
       "      <td>194</td>\n",
       "    </tr>\n",
       "    <tr>\n",
       "      <th>3</th>\n",
       "      <td>11170</td>\n",
       "      <td>17877.15585</td>\n",
       "      <td>16.731201</td>\n",
       "      <td>MORTGAGE</td>\n",
       "      <td>108286.57590</td>\n",
       "      <td>Source Verified</td>\n",
       "      <td>18.043730</td>\n",
       "      <td>1</td>\n",
       "      <td>0</td>\n",
       "      <td>288.173196</td>\n",
       "      <td>0.044131</td>\n",
       "      <td>0</td>\n",
       "      <td>INDIVIDUAL</td>\n",
       "      <td>40</td>\n",
       "      <td>9189</td>\n",
       "      <td>60214</td>\n",
       "      <td>0</td>\n",
       "      <td>83</td>\n",
       "    </tr>\n",
       "    <tr>\n",
       "      <th>4</th>\n",
       "      <td>16890</td>\n",
       "      <td>13539.92667</td>\n",
       "      <td>15.008300</td>\n",
       "      <td>MORTGAGE</td>\n",
       "      <td>44234.82545</td>\n",
       "      <td>Source Verified</td>\n",
       "      <td>17.209886</td>\n",
       "      <td>1</td>\n",
       "      <td>1</td>\n",
       "      <td>129.239553</td>\n",
       "      <td>19.306646</td>\n",
       "      <td>0</td>\n",
       "      <td>INDIVIDUAL</td>\n",
       "      <td>430</td>\n",
       "      <td>126029</td>\n",
       "      <td>22579</td>\n",
       "      <td>0</td>\n",
       "      <td>89</td>\n",
       "    </tr>\n",
       "  </tbody>\n",
       "</table>\n",
       "</div>"
      ],
      "text/plain": [
       "   Loan Amount  Funded Amount Investor  Interest Rate Employment Duration  \\\n",
       "0        10000             12329.36286      11.135007            MORTGAGE   \n",
       "1         3609             12191.99692      12.237563                RENT   \n",
       "2        28276             21603.22455      12.545884            MORTGAGE   \n",
       "3        11170             17877.15585      16.731201            MORTGAGE   \n",
       "4        16890             13539.92667      15.008300            MORTGAGE   \n",
       "\n",
       "   Home Ownership Verification Status  Debit to Income  \\\n",
       "0    176346.62670        Not Verified        16.284758   \n",
       "1     39833.92100     Source Verified        15.412409   \n",
       "2     91506.69105     Source Verified        28.137619   \n",
       "3    108286.57590     Source Verified        18.043730   \n",
       "4     44234.82545     Source Verified        17.209886   \n",
       "\n",
       "   Delinquency - two years  Public Record  Total Received Interest  \\\n",
       "0                        1              0              2929.646315   \n",
       "1                        0              0               772.769385   \n",
       "2                        0              0               863.324396   \n",
       "3                        1              0               288.173196   \n",
       "4                        1              1               129.239553   \n",
       "\n",
       "   Total Received Late Fee  Collection 12 months Medical Application Type  \\\n",
       "0                 0.102055                             0       INDIVIDUAL   \n",
       "1                 0.036181                             0       INDIVIDUAL   \n",
       "2                18.778660                             0       INDIVIDUAL   \n",
       "3                 0.044131                             0       INDIVIDUAL   \n",
       "4                19.306646                             0       INDIVIDUAL   \n",
       "\n",
       "   Total Collection Amount  Total Current Balance  \\\n",
       "0                       31                 311301   \n",
       "1                       53                 182610   \n",
       "2                       34                  89801   \n",
       "3                       40                   9189   \n",
       "4                      430                 126029   \n",
       "\n",
       "   Total Revolving Credit Limit  Loan Status  GradeSubGrade  \n",
       "0                          6619            0             49  \n",
       "1                         20885            0             88  \n",
       "2                         26155            0            194  \n",
       "3                         60214            0             83  \n",
       "4                         22579            0             89  "
      ]
     },
     "execution_count": 134,
     "metadata": {},
     "output_type": "execute_result"
    }
   ],
   "source": [
    "train.head()"
   ]
  },
  {
   "cell_type": "markdown",
   "metadata": {},
   "source": [
    "### BALANCING THE DATASET"
   ]
  },
  {
   "cell_type": "code",
   "execution_count": 137,
   "metadata": {},
   "outputs": [],
   "source": [
    "zeros = train.loc[train[\"Loan Status\"] == 0]\n",
    "ones =  train.loc[train[\"Loan Status\"] == 1]\n",
    "\n",
    "balanced = zeros.sample(ones.shape[0])\n",
    "balanced_df = pd.concat([ones, balanced], axis = 0).reset_index()\n",
    "balanced_df = balanced_df.drop(columns = [\"index\"])\n",
    "\n"
   ]
  },
  {
   "cell_type": "markdown",
   "metadata": {},
   "source": [
    "### Feature Engineering via sklearN"
   ]
  },
  {
   "cell_type": "code",
   "execution_count": 140,
   "metadata": {},
   "outputs": [],
   "source": [
    "preproc = ColumnTransformer([\n",
    "    (\"one-hot\", OneHotEncoder(handle_unknown=\"ignore\"), [\"Employment Duration\", \"Verification Status\", \"Application Type\"]),\n",
    "    (\"Std-scale\", StandardScaler(), ['Total Collection Amount', 'Total Received Late Fee'])\n",
    "], remainder=\"passthrough\")"
   ]
  },
  {
   "cell_type": "markdown",
   "metadata": {},
   "source": [
    "### Random Forest Classifier"
   ]
  },
  {
   "cell_type": "code",
   "execution_count": 142,
   "metadata": {},
   "outputs": [
    {
     "name": "stdout",
     "output_type": "stream",
     "text": [
      "Fitting 5 folds for each of 300 candidates, totalling 1500 fits\n"
     ]
    },
    {
     "name": "stderr",
     "output_type": "stream",
     "text": [
      "Unable to load extension: pydevd_plugins.extensions.types.pydevd_plugin_pandas_types\n",
      "Unable to load extension: pydevd_plugins.extensions.types.pydevd_plugin_pandas_types\n",
      "Unable to load extension: pydevd_plugins.extensions.types.pydevd_plugin_pandas_types\n",
      "Unable to load extension: pydevd_plugins.extensions.types.pydevd_plugin_pandas_types\n",
      "Unable to load extension: pydevd_plugins.extensions.types.pydevd_plugin_pandas_types\n",
      "Unable to load extension: pydevd_plugins.extensions.types.pydevd_plugin_pandas_types\n",
      "Unable to load extension: pydevd_plugins.extensions.types.pydevd_plugin_pandas_types\n",
      "Unable to load extension: pydevd_plugins.extensions.types.pydevd_plugin_pandas_types\n",
      "/Users/SPECTRE/opt/anaconda3/envs/dsc80/lib/python3.8/site-packages/sklearn/model_selection/_validation.py:372: FitFailedWarning: \n",
      "375 fits failed out of a total of 1500.\n",
      "The score on these train-test partitions for these parameters will be set to nan.\n",
      "If these failures are not expected, you can try to debug them by setting error_score='raise'.\n",
      "\n",
      "Below are more details about the failures:\n",
      "--------------------------------------------------------------------------------\n",
      "375 fits failed with the following error:\n",
      "Traceback (most recent call last):\n",
      "  File \"/Users/SPECTRE/opt/anaconda3/envs/dsc80/lib/python3.8/site-packages/sklearn/model_selection/_validation.py\", line 681, in _fit_and_score\n",
      "    estimator.fit(X_train, y_train, **fit_params)\n",
      "  File \"/Users/SPECTRE/opt/anaconda3/envs/dsc80/lib/python3.8/site-packages/sklearn/pipeline.py\", line 394, in fit\n",
      "    self._final_estimator.fit(Xt, y, **fit_params_last_step)\n",
      "  File \"/Users/SPECTRE/opt/anaconda3/envs/dsc80/lib/python3.8/site-packages/sklearn/ensemble/_forest.py\", line 441, in fit\n",
      "    trees = Parallel(\n",
      "  File \"/Users/SPECTRE/opt/anaconda3/envs/dsc80/lib/python3.8/site-packages/joblib/parallel.py\", line 1043, in __call__\n",
      "    if self.dispatch_one_batch(iterator):\n",
      "  File \"/Users/SPECTRE/opt/anaconda3/envs/dsc80/lib/python3.8/site-packages/joblib/parallel.py\", line 861, in dispatch_one_batch\n",
      "    self._dispatch(tasks)\n",
      "  File \"/Users/SPECTRE/opt/anaconda3/envs/dsc80/lib/python3.8/site-packages/joblib/parallel.py\", line 779, in _dispatch\n",
      "    job = self._backend.apply_async(batch, callback=cb)\n",
      "  File \"/Users/SPECTRE/opt/anaconda3/envs/dsc80/lib/python3.8/site-packages/joblib/_parallel_backends.py\", line 208, in apply_async\n",
      "    result = ImmediateResult(func)\n",
      "  File \"/Users/SPECTRE/opt/anaconda3/envs/dsc80/lib/python3.8/site-packages/joblib/_parallel_backends.py\", line 572, in __init__\n",
      "    self.results = batch()\n",
      "  File \"/Users/SPECTRE/opt/anaconda3/envs/dsc80/lib/python3.8/site-packages/joblib/parallel.py\", line 262, in __call__\n",
      "    return [func(*args, **kwargs)\n",
      "  File \"/Users/SPECTRE/opt/anaconda3/envs/dsc80/lib/python3.8/site-packages/joblib/parallel.py\", line 262, in <listcomp>\n",
      "    return [func(*args, **kwargs)\n",
      "  File \"/Users/SPECTRE/opt/anaconda3/envs/dsc80/lib/python3.8/site-packages/sklearn/utils/fixes.py\", line 209, in __call__\n",
      "    return self.function(*args, **kwargs)\n",
      "  File \"/Users/SPECTRE/opt/anaconda3/envs/dsc80/lib/python3.8/site-packages/sklearn/ensemble/_forest.py\", line 184, in _parallel_build_trees\n",
      "    tree.fit(X, y, sample_weight=curr_sample_weight, check_input=False)\n",
      "  File \"/Users/SPECTRE/opt/anaconda3/envs/dsc80/lib/python3.8/site-packages/sklearn/tree/_classes.py\", line 937, in fit\n",
      "    super().fit(\n",
      "  File \"/Users/SPECTRE/opt/anaconda3/envs/dsc80/lib/python3.8/site-packages/sklearn/tree/_classes.py\", line 250, in fit\n",
      "    raise ValueError(\n",
      "ValueError: min_samples_split must be an integer greater than 1 or a float in (0.0, 1.0]; got the integer 1\n",
      "\n",
      "  warnings.warn(some_fits_failed_message, FitFailedWarning)\n",
      "/Users/SPECTRE/opt/anaconda3/envs/dsc80/lib/python3.8/site-packages/sklearn/model_selection/_search.py:969: UserWarning: One or more of the test scores are non-finite: [       nan        nan        nan        nan        nan 0.4876717\n",
      " 0.51910417 0.49554556 0.50047947 0.51301775 0.46226748 0.47267092\n",
      " 0.50852022 0.50092526 0.49286259 0.50900232 0.49428234 0.50409027\n",
      " 0.51406805 0.50712063        nan        nan        nan        nan\n",
      "        nan 0.48875509 0.50473614 0.4930159  0.49565916 0.49488836\n",
      " 0.47485519 0.49641662 0.50115119 0.49708276 0.49430373 0.47878078\n",
      " 0.49376944 0.49679122 0.50207183 0.49965396        nan        nan\n",
      "        nan        nan        nan 0.4980734  0.49488054 0.49001201\n",
      " 0.4918624  0.48636937 0.50552297 0.48557436 0.49142854 0.49696622\n",
      " 0.49098238 0.48755723 0.49518411 0.49478222 0.49643313 0.48619006\n",
      "        nan        nan        nan        nan        nan 0.49540625\n",
      " 0.48754703 0.48875335 0.4820197  0.48926963 0.49440975 0.48798014\n",
      " 0.49357648 0.48486914 0.48538061 0.49794904 0.49388407 0.4813358\n",
      " 0.48808208 0.50040798        nan        nan        nan        nan\n",
      "        nan 0.41657133 0.45567121 0.463984   0.49049026 0.47475296\n",
      " 0.48838393 0.48609744 0.49272626 0.48586004 0.48907034 0.48928125\n",
      " 0.49317958 0.49938562 0.49111024 0.49632264        nan        nan\n",
      "        nan        nan        nan 0.48788891 0.48930717 0.50183224\n",
      " 0.5063664  0.50584575 0.48761491 0.49825036 0.50285831 0.50995919\n",
      " 0.50223032 0.47249482 0.4946651  0.50191365 0.49580879 0.50827925\n",
      "        nan        nan        nan        nan        nan 0.48030389\n",
      " 0.49750564 0.4910142  0.49635751 0.49796402 0.48300619 0.50097949\n",
      " 0.50089398 0.49642547 0.49419356 0.48606852 0.49452372 0.49695914\n",
      " 0.50074775 0.49757586        nan        nan        nan        nan\n",
      "        nan 0.48734587 0.5081879  0.48751474 0.48905161 0.48640047\n",
      " 0.48968525 0.48833876 0.49005426 0.49164023 0.49313442 0.50316092\n",
      " 0.49203182 0.48854878 0.49291465 0.49481723        nan        nan\n",
      "        nan        nan        nan 0.48831138 0.49813806 0.49603967\n",
      " 0.49123974 0.47691792 0.49320082 0.49618096 0.48832141 0.49612333\n",
      " 0.49324305 0.49726861 0.49713826 0.49319971 0.48696851 0.49269589\n",
      "        nan        nan        nan        nan        nan 0.42271624\n",
      " 0.45807157 0.4687901  0.49815782 0.47473815 0.48427584 0.49789747\n",
      " 0.4940195  0.49769886 0.48896086 0.49051335 0.4971353  0.48769575\n",
      " 0.49696481 0.49141617        nan        nan        nan        nan\n",
      "        nan 0.45519142 0.44017127 0.43009604 0.41695111 0.41176105\n",
      " 0.4263803  0.43854289 0.42639532 0.42734847 0.4157253  0.46479037\n",
      " 0.44836922 0.397357   0.42132424 0.40424917        nan        nan\n",
      "        nan        nan        nan 0.47328454 0.47216731 0.46343726\n",
      " 0.46577353 0.46959026 0.46403307 0.46115032 0.46418086 0.46252775\n",
      " 0.4693212  0.4839632  0.45610901 0.46451705 0.46324183 0.47352734\n",
      "        nan        nan        nan        nan        nan 0.47931978\n",
      " 0.4747452  0.47882185 0.475346   0.47690689 0.48206064 0.47467087\n",
      " 0.48558705 0.47312928 0.47285291 0.48275851 0.48272826 0.47480674\n",
      " 0.4838109  0.48135277        nan        nan        nan        nan\n",
      "        nan 0.48835436 0.48458225 0.48544697 0.48547968 0.48536242\n",
      " 0.47838016 0.48476848 0.47788299 0.48379202 0.48754652 0.48068387\n",
      " 0.47575185 0.48673005 0.48703122 0.48280944        nan        nan\n",
      "        nan        nan        nan 0.42885129 0.45391929 0.46212771\n",
      " 0.47863123 0.46493197 0.49496842 0.49503892 0.48566295 0.48666077\n",
      " 0.48946716 0.49742789 0.49509577 0.49134528 0.49110992 0.49134453]\n",
      "  warnings.warn(\n"
     ]
    },
    {
     "data": {
      "text/plain": [
       "GridSearchCV(cv=5,\n",
       "             estimator=Pipeline(steps=[('preprocessing',\n",
       "                                        ColumnTransformer(remainder='passthrough',\n",
       "                                                          transformers=[('one-hot',\n",
       "                                                                         OneHotEncoder(handle_unknown='ignore'),\n",
       "                                                                         ['Employment '\n",
       "                                                                          'Duration',\n",
       "                                                                          'Verification '\n",
       "                                                                          'Status',\n",
       "                                                                          'Application '\n",
       "                                                                          'Type']),\n",
       "                                                                        ('Std-scale',\n",
       "                                                                         StandardScaler(),\n",
       "                                                                         ['Total '\n",
       "                                                                          'Collection '\n",
       "                                                                          'Amount',\n",
       "                                                                          'Total '\n",
       "                                                                          'Received '\n",
       "                                                                          'Late '\n",
       "                                                                          'Fee'])])),\n",
       "                                       ('rf', RandomForestClassifier())]),\n",
       "             n_jobs=-1,\n",
       "             param_grid={'rf__class_weight': ['balanced', 'balanced_subsample',\n",
       "                                              None],\n",
       "                         'rf__max_depth': [2, 5, 10, 20, None],\n",
       "                         'rf__min_samples_split': [1, 2, 5, 10],\n",
       "                         'rf__n_estimators': [10, 30, 50, 75, 100]},\n",
       "             scoring='f1', verbose=1)"
      ]
     },
     "execution_count": 142,
     "metadata": {},
     "output_type": "execute_result"
    }
   ],
   "source": [
    "X = balanced_df.drop('Loan Status', axis=1)\n",
    "y = balanced_df['Loan Status']\n",
    "\n",
    "X_train, X_test, y_train, y_test = train_test_split(X, y, test_size=0.2, random_state=42)\n",
    "\n",
    "rf_pipe = Pipeline([\n",
    "    (\"preprocessing\", preproc),\n",
    "    (\"rf\", rf)\n",
    "])\n",
    "\n",
    "param_grid = {'rf__n_estimators' : [10, 30, 50, 75, 100],\n",
    "              'rf__max_depth' : [2, 5, 10, 20, None],\n",
    "              'rf__min_samples_split' : [1, 2, 5, 10],\n",
    "              'rf__class_weight' : [\"balanced\", \"balanced_subsample\", None]}\n",
    "\n",
    "grid_search_rf = GridSearchCV(rf_pipe, param_grid=param_grid, cv=5, scoring='f1', n_jobs=-1, verbose=1)\n",
    "grid_search_rf.fit(X_train, y_train)"
   ]
  },
  {
   "cell_type": "code",
   "execution_count": 143,
   "metadata": {},
   "outputs": [
    {
     "data": {
      "text/plain": [
       "{'rf__class_weight': 'balanced',\n",
       " 'rf__max_depth': 2,\n",
       " 'rf__min_samples_split': 2,\n",
       " 'rf__n_estimators': 30}"
      ]
     },
     "execution_count": 143,
     "metadata": {},
     "output_type": "execute_result"
    }
   ],
   "source": [
    "grid_search_rf.best_params_"
   ]
  },
  {
   "cell_type": "code",
   "execution_count": 144,
   "metadata": {},
   "outputs": [
    {
     "data": {
      "text/plain": [
       "0.5191041701889237"
      ]
     },
     "execution_count": 144,
     "metadata": {},
     "output_type": "execute_result"
    }
   ],
   "source": [
    "grid_search_rf.best_score_"
   ]
  },
  {
   "cell_type": "code",
   "execution_count": 145,
   "metadata": {},
   "outputs": [
    {
     "data": {
      "text/plain": [
       "0.5282338806567881"
      ]
     },
     "execution_count": 145,
     "metadata": {},
     "output_type": "execute_result"
    }
   ],
   "source": [
    "# get accuracy\n",
    "grid_search_rf.score(X_test, y_test)\n",
    "accuracy_score(y_test, grid_search_rf.predict(X_test))"
   ]
  },
  {
   "cell_type": "code",
   "execution_count": 146,
   "metadata": {},
   "outputs": [
    {
     "name": "stdout",
     "output_type": "stream",
     "text": [
      "Fitting 5 folds for each of 40 candidates, totalling 200 fits\n"
     ]
    },
    {
     "name": "stderr",
     "output_type": "stream",
     "text": [
      "/Users/SPECTRE/opt/anaconda3/envs/dsc80/lib/python3.8/site-packages/sklearn/model_selection/_validation.py:372: FitFailedWarning: \n",
      "50 fits failed out of a total of 200.\n",
      "The score on these train-test partitions for these parameters will be set to nan.\n",
      "If these failures are not expected, you can try to debug them by setting error_score='raise'.\n",
      "\n",
      "Below are more details about the failures:\n",
      "--------------------------------------------------------------------------------\n",
      "50 fits failed with the following error:\n",
      "Traceback (most recent call last):\n",
      "  File \"/Users/SPECTRE/opt/anaconda3/envs/dsc80/lib/python3.8/site-packages/sklearn/model_selection/_validation.py\", line 681, in _fit_and_score\n",
      "    estimator.fit(X_train, y_train, **fit_params)\n",
      "  File \"/Users/SPECTRE/opt/anaconda3/envs/dsc80/lib/python3.8/site-packages/sklearn/pipeline.py\", line 394, in fit\n",
      "    self._final_estimator.fit(Xt, y, **fit_params_last_step)\n",
      "  File \"/Users/SPECTRE/opt/anaconda3/envs/dsc80/lib/python3.8/site-packages/sklearn/tree/_classes.py\", line 937, in fit\n",
      "    super().fit(\n",
      "  File \"/Users/SPECTRE/opt/anaconda3/envs/dsc80/lib/python3.8/site-packages/sklearn/tree/_classes.py\", line 250, in fit\n",
      "    raise ValueError(\n",
      "ValueError: min_samples_split must be an integer greater than 1 or a float in (0.0, 1.0]; got the integer 1\n",
      "\n",
      "  warnings.warn(some_fits_failed_message, FitFailedWarning)\n",
      "/Users/SPECTRE/opt/anaconda3/envs/dsc80/lib/python3.8/site-packages/sklearn/model_selection/_search.py:969: UserWarning: One or more of the test scores are non-finite: [       nan 0.58016522 0.58016522 0.58016522        nan 0.36607779\n",
      " 0.36575413 0.36639149        nan 0.41890964 0.41908244 0.42250784\n",
      "        nan 0.47220281 0.4739036  0.47821298        nan 0.49983136\n",
      " 0.5000964  0.51119761        nan 0.51957701 0.51957701 0.51957701\n",
      "        nan 0.36591946 0.36612825 0.36620445        nan 0.41733356\n",
      " 0.41653174 0.41705025        nan 0.4641829  0.46158159 0.46236304\n",
      "        nan 0.49602268 0.49944225 0.49448895]\n",
      "  warnings.warn(\n"
     ]
    },
    {
     "data": {
      "text/plain": [
       "GridSearchCV(cv=5,\n",
       "             estimator=Pipeline(steps=[('preprocessing',\n",
       "                                        ColumnTransformer(remainder='passthrough',\n",
       "                                                          transformers=[('one-hot',\n",
       "                                                                         OneHotEncoder(handle_unknown='ignore'),\n",
       "                                                                         ['Employment '\n",
       "                                                                          'Duration',\n",
       "                                                                          'Verification '\n",
       "                                                                          'Status',\n",
       "                                                                          'Application '\n",
       "                                                                          'Type']),\n",
       "                                                                        ('Std-scale',\n",
       "                                                                         StandardScaler(),\n",
       "                                                                         ['Total '\n",
       "                                                                          'Collection '\n",
       "                                                                          'Amount',\n",
       "                                                                          'Total '\n",
       "                                                                          'Received '\n",
       "                                                                          'Late '\n",
       "                                                                          'Fee'])])),\n",
       "                                       ('dt', DecisionTreeClassifier())]),\n",
       "             n_jobs=-1,\n",
       "             param_grid={'dt__class_weight': ['balanced', None],\n",
       "                         'dt__max_depth': [2, 5, 10, 20, None],\n",
       "                         'dt__min_samples_split': [1, 2, 5, 10]},\n",
       "             scoring='f1', verbose=1)"
      ]
     },
     "execution_count": 146,
     "metadata": {},
     "output_type": "execute_result"
    }
   ],
   "source": [
    "dt_pipe = Pipeline([\n",
    "    (\"preprocessing\", preproc),\n",
    "    (\"dt\", dt)\n",
    "])\n",
    "\n",
    "param_grid = {'dt__max_depth' : [2, 5, 10, 20, None],\n",
    "                'dt__min_samples_split' : [1, 2, 5, 10],\n",
    "                'dt__class_weight' : [\"balanced\", None]}\n",
    "\n",
    "grid_search_dt = GridSearchCV(dt_pipe, param_grid=param_grid, cv=5, scoring='f1', n_jobs=-1, verbose=1)\n",
    "grid_search_dt.fit(X_train, y_train)"
   ]
  },
  {
   "cell_type": "code",
   "execution_count": 147,
   "metadata": {},
   "outputs": [
    {
     "data": {
      "text/plain": [
       "{'dt__class_weight': 'balanced',\n",
       " 'dt__max_depth': 2,\n",
       " 'dt__min_samples_split': 2}"
      ]
     },
     "execution_count": 147,
     "metadata": {},
     "output_type": "execute_result"
    }
   ],
   "source": [
    "grid_search_dt.best_params_"
   ]
  },
  {
   "cell_type": "code",
   "execution_count": 148,
   "metadata": {},
   "outputs": [
    {
     "data": {
      "text/plain": [
       "0.5801652170704724"
      ]
     },
     "execution_count": 148,
     "metadata": {},
     "output_type": "execute_result"
    }
   ],
   "source": [
    "grid_search_dt.best_score_"
   ]
  },
  {
   "cell_type": "code",
   "execution_count": 149,
   "metadata": {},
   "outputs": [
    {
     "data": {
      "text/plain": [
       "0.5282338806567881"
      ]
     },
     "execution_count": 149,
     "metadata": {},
     "output_type": "execute_result"
    }
   ],
   "source": [
    "# get accuracy score of the best model\n",
    "y_pred = grid_search_rf.predict(X_test)\n",
    "accuracy_score(y_test, y_pred)"
   ]
  },
  {
   "cell_type": "code",
   "execution_count": 150,
   "metadata": {},
   "outputs": [
    {
     "data": {
      "text/plain": [
       "0.46280344557556774"
      ]
     },
     "execution_count": 150,
     "metadata": {},
     "output_type": "execute_result"
    }
   ],
   "source": [
    "# get recall\n",
    "from sklearn.metrics import recall_score\n",
    "recall_score(y_test, y_pred)"
   ]
  },
  {
   "cell_type": "code",
   "execution_count": 151,
   "metadata": {},
   "outputs": [
    {
     "data": {
      "text/plain": [
       "0.5457063711911357"
      ]
     },
     "execution_count": 151,
     "metadata": {},
     "output_type": "execute_result"
    }
   ],
   "source": [
    "# get precision\n",
    "from sklearn.metrics import precision_score\n",
    "precision_score(y_test, y_pred)"
   ]
  },
  {
   "cell_type": "code",
   "execution_count": 152,
   "metadata": {},
   "outputs": [
    {
     "data": {
      "text/plain": [
       "0.5297623785254888"
      ]
     },
     "execution_count": 152,
     "metadata": {},
     "output_type": "execute_result"
    }
   ],
   "source": [
    "# get AUC score\n",
    "from sklearn.metrics import roc_auc_score\n",
    "roc_auc_score(y_test, y_pred)"
   ]
  },
  {
   "cell_type": "code",
   "execution_count": 153,
   "metadata": {},
   "outputs": [],
   "source": [
    "# export the dt model\n",
    "import pickle\n",
    "pickle.dump(grid_search_dt, open('dt_model.pkl', 'wb'))"
   ]
  },
  {
   "cell_type": "markdown",
   "metadata": {},
   "source": [
    "# FINAL MODEL - DECISION TREE CLASSIFIER"
   ]
  },
  {
   "cell_type": "code",
   "execution_count": 160,
   "metadata": {},
   "outputs": [
    {
     "data": {
      "text/plain": [
       "Pipeline(steps=[('preprocessing',\n",
       "                 ColumnTransformer(remainder='passthrough',\n",
       "                                   transformers=[('one-hot',\n",
       "                                                  OneHotEncoder(handle_unknown='ignore'),\n",
       "                                                  ['Employment Duration',\n",
       "                                                   'Verification Status',\n",
       "                                                   'Application Type']),\n",
       "                                                 ('Std-scale', StandardScaler(),\n",
       "                                                  ['Total Collection Amount',\n",
       "                                                   'Total Received Late '\n",
       "                                                   'Fee'])])),\n",
       "                ('dt',\n",
       "                 DecisionTreeClassifier(class_weight='balanced', max_depth=2))])"
      ]
     },
     "execution_count": 160,
     "metadata": {},
     "output_type": "execute_result"
    }
   ],
   "source": [
    "final_pipe = Pipeline([\n",
    "    (\"preprocessing\", preproc),\n",
    "    (\"dt\", DecisionTreeClassifier(max_depth = 2, min_samples_split = 2, class_weight = \"balanced\"))\n",
    "])\n",
    "\n",
    "final_pipe.fit(X_train, y_train)"
   ]
  },
  {
   "cell_type": "code",
   "execution_count": 163,
   "metadata": {},
   "outputs": [
    {
     "data": {
      "text/plain": [
       "0.6049868766404198"
      ]
     },
     "execution_count": 163,
     "metadata": {},
     "output_type": "execute_result"
    }
   ],
   "source": [
    "f1_score(y_test, final_pipe.predict(X_test))"
   ]
  },
  {
   "cell_type": "code",
   "execution_count": 171,
   "metadata": {},
   "outputs": [
    {
     "name": "stdout",
     "output_type": "stream",
     "text": [
      "True negative  371\n",
      "True positive  922\n",
      "False negative  355\n",
      "False positive  849\n"
     ]
    }
   ],
   "source": [
    "tn, fp, fn, tp = confusion_matrix(y_test, final_pipe.predict(X_test)).ravel()\n",
    "print(\"True negative \", tn)\n",
    "print(\"True positive \", tp)\n",
    "print(\"False negative \", fn)\n",
    "print(\"False positive \", fp)"
   ]
  },
  {
   "cell_type": "markdown",
   "metadata": {},
   "source": [
    "## The final model is a decsion tree classifier with f1 score of 0.60."
   ]
  }
 ],
 "metadata": {
  "interpreter": {
   "hash": "c2ec7cdfcd7c930c84c6bd6ed8bbb907be30206aa6790eb5f4dc654ce9ba8e9e"
  },
  "kernelspec": {
   "display_name": "Python 3.8.13 ('dsc80')",
   "language": "python",
   "name": "python3"
  },
  "language_info": {
   "codemirror_mode": {
    "name": "ipython",
    "version": 3
   },
   "file_extension": ".py",
   "mimetype": "text/x-python",
   "name": "python",
   "nbconvert_exporter": "python",
   "pygments_lexer": "ipython3",
   "version": "3.8.13"
  },
  "orig_nbformat": 4
 },
 "nbformat": 4,
 "nbformat_minor": 2
}
